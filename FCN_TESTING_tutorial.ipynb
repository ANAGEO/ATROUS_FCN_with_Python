{
 "cells": [
  {
   "cell_type": "code",
   "execution_count": 1,
   "metadata": {},
   "outputs": [
    {
     "data": {
      "text/plain": [
       "'FCN ATROUS TESTING'"
      ]
     },
     "execution_count": 1,
     "metadata": {},
     "output_type": "execute_result"
    }
   ],
   "source": [
    "  \"FCN ATROUS TESTING\""
   ]
  },
  {
   "cell_type": "code",
   "execution_count": 2,
   "metadata": {},
   "outputs": [
    {
     "name": "stderr",
     "output_type": "stream",
     "text": [
      "Using Theano backend.\n",
      "Using cuDNN version 7005 on context None\n",
      "Mapped name None to device cuda: GeForce GTX 1080 (0000:05:00.0)\n"
     ]
    }
   ],
   "source": [
    "# -*- coding: utf-8 -*-\n",
    "\"\"\"\n",
    "Created on Wed Mar 07 11:04:06 2018\n",
    "\n",
    "@author: Nicholus\n",
    "\"\"\"\n",
    "\n",
    "# key issues to note include the loss function, the softmax\n",
    "from numpy.random import seed,randint\n",
    "import time\n",
    "import keras\n",
    "import numpy as np\n",
    "import h5py\n",
    "from keras.models import Sequential, Model\n",
    "from keras.layers import Input, Lambda,LeakyReLU\n",
    "from keras.layers import Dense, Activation, Dropout, BatchNormalization, Add\n",
    "from keras.layers import Conv2D, MaxPooling2D, ZeroPadding2D,Concatenate\n",
    "#from keras.preprocessing import image, datagen\n",
    "from keras.optimizers import SGD\n",
    "from keras.callbacks import LearningRateScheduler\n",
    "import theano.tensor as T\n",
    "from keras import backend as K\n",
    "from osgeo import gdal\n",
    "from theano import ifelse\n",
    "import matplotlib.pyplot as plt\n",
    "from PIL import Image\n",
    "seed(352)\n",
    "K.set_image_dim_ordering(\"th\")\n",
    "t0 = time.time()\n",
    "\n",
    "nb_epoch = 200\n",
    "batch_size = 32\n",
    "nc = 5\n",
    "\n",
    "_epsilon = 1e-6"
   ]
  },
  {
   "cell_type": "code",
   "execution_count": 3,
   "metadata": {},
   "outputs": [
    {
     "data": {
      "text/plain": [
       "\" \\ndef block_1(inpt):\\n\\tx = inpt\\n\\tx_0 = ZeroPadding2D((2, 2))(x)\\n\\tx_0 = Conv2D(64, (5, 5), padding = 'valid')(x_0)\\n\\tx_0 = add_common_layers(x_0)\\n\\tx_0 = ZeroPadding2D((1, 1))(x_0)\\n\\tx_0 = MaxPooling2D(pool_size=(3, 3),strides=1)(x_0)\\n\\treturn x_0\\n\\t\\ndef block_2(inp):\\n\\tx_1 = inp\\n\\tx_2 = ZeroPadding2D((1, 1))(x_1)\\n\\tx_2 = Conv2D(64, (3, 3), padding = 'valid')(x_2)\\n\\tx_2 = add_common_layers(x_2)\\n\\tx_2 = ZeroPadding2D((1, 1))(x_2)\\n\\tx_2 = MaxPooling2D(pool_size=(3, 3),strides=1)(x_2)\\n\\treturn x_2\\n\""
      ]
     },
     "execution_count": 3,
     "metadata": {},
     "output_type": "execute_result"
    }
   ],
   "source": [
    "#customize the softmax activation function\n",
    "def softmax_4d(softmax_input):\n",
    "    \"\"\"Elementwise softmax for 4d tensors.\"\"\"\n",
    "    si = softmax_input.reshape((softmax_input.shape[0],\n",
    "                                softmax_input.shape[1], -1))\n",
    "    shp = (si.shape[0], 1, si.shape[2])\n",
    "    exp = K.exp(si - si.max(axis=1).reshape(shp))\n",
    "    out = (exp / exp.sum(axis=1).reshape(shp)).reshape(softmax_input.shape)\n",
    "    return out\n",
    "\n",
    "#customize the loss function\n",
    "\n",
    "def categorical_CE2D(y_true, y_pred):\n",
    "    y_pred = K.clip(y_pred, _epsilon, 1.0 - _epsilon)\n",
    "    cce = K.mean(-K.sum(y_true*K.log(y_pred), axis=[1]))\n",
    "    return cce\n",
    "\n",
    "def categorical_accuracy2D(y_true, y_pred):\n",
    "    return K.mean(K.equal(K.argmax(y_true, axis=1),\n",
    "                  K.argmax(y_pred, axis=1)))\n",
    "\t\t\t\t  \n",
    "def to_categorical_4d(y, nc):\n",
    "    \"\"\"Convert a reclassed ground truth array to one-hot encoding\n",
    "    \n",
    "    Keyword arguments:\n",
    "    y -- ground truth image\n",
    "    nc -- number of classes\n",
    "    \"\"\"\n",
    "    Y = np.zeros((y.shape[0],\n",
    "                  nc,\n",
    "                  y.shape[2],\n",
    "                  y.shape[3]),\n",
    "                  dtype=np.int32)\n",
    "    \n",
    "    for h in range(y.shape[0]):\n",
    "        for i in range(y.shape[2]):\n",
    "            for j in range(y.shape[3]):\n",
    "                if y[h, 0, i, j] != 0:\n",
    "                    Y[h, y[h, 0, i, j]-1, i, j] = 1\n",
    "                else:\n",
    "                    continue\n",
    "    \n",
    "    return Y\n",
    "\"\"\"\n",
    "def add_common_layers(y):\n",
    "    y = BatchNormalization(axis=1)(y) #should i define the axis for BN? what is the effect of not specifying the BN\n",
    "    y = Activation ('relu')(y)\n",
    "    \n",
    "    return y\n",
    "\"\"\"\n",
    "\n",
    "def add_common_layers(y):\n",
    "    y = Activation ('relu')(y)\n",
    "    #y=LeakyReLU(alpha=0.1)(y)\n",
    "    y = BatchNormalization(axis=1)(y) #should i define the axis for BN? what is the effect of not specifying the BN\n",
    "    #y = Activation ('relu')(y)\n",
    "    #y=Dropout(0.2)(y)\n",
    "    return y\n",
    "\n",
    "def block_1(inpt):\n",
    "\tx = inpt\n",
    "\tx_0 = ZeroPadding2D((4, 4))(x)\n",
    "\tx_0 = Conv2D(64, (5, 5), padding = 'valid', dilation_rate = (2,2))(x_0)\n",
    "\tx_0 = add_common_layers(x_0)\n",
    "\tx_0 = ZeroPadding2D((1, 1))(x_0)\n",
    "\tx_0 = MaxPooling2D(pool_size=(3, 3),strides=1)(x_0)\n",
    "\treturn x_0\n",
    "\t\n",
    "def block_2(inp):\n",
    "\tx_1 = inp\n",
    "\tx_2 = ZeroPadding2D((2, 2))(x_1)\n",
    "\tx_2 = Conv2D(64, (3, 3), padding = 'valid', dilation_rate = (2,2))(x_2)\n",
    "\tx_2 = add_common_layers(x_2)\n",
    "\tx_2 = ZeroPadding2D((1, 1))(x_2)\n",
    "\tx_2 = MaxPooling2D(pool_size=(3, 3),strides=1)(x_2)\n",
    "\treturn x_2\n",
    "\"\"\" \n",
    "def block_1(inpt):\n",
    "\tx = inpt\n",
    "\tx_0 = ZeroPadding2D((2, 2))(x)\n",
    "\tx_0 = Conv2D(64, (5, 5), padding = 'valid')(x_0)\n",
    "\tx_0 = add_common_layers(x_0)\n",
    "\tx_0 = ZeroPadding2D((1, 1))(x_0)\n",
    "\tx_0 = MaxPooling2D(pool_size=(3, 3),strides=1)(x_0)\n",
    "\treturn x_0\n",
    "\t\n",
    "def block_2(inp):\n",
    "\tx_1 = inp\n",
    "\tx_2 = ZeroPadding2D((1, 1))(x_1)\n",
    "\tx_2 = Conv2D(64, (3, 3), padding = 'valid')(x_2)\n",
    "\tx_2 = add_common_layers(x_2)\n",
    "\tx_2 = ZeroPadding2D((1, 1))(x_2)\n",
    "\tx_2 = MaxPooling2D(pool_size=(3, 3),strides=1)(x_2)\n",
    "\treturn x_2\n",
    "\"\"\""
   ]
  },
  {
   "cell_type": "code",
   "execution_count": 25,
   "metadata": {
    "collapsed": true
   },
   "outputs": [],
   "source": [
    "_datadir = \"H:/BUKAVU-2018/PRELIM_CNN/\"\n",
    "tutorialdir = \"H:/tutorial_fcn/\"\n",
    "#w8fname = _datadir+\\\n",
    "#      \"weights/fcn_gray_v3.hdf5\"\n",
    "w8fname = tutorialdir+\\\n",
    "      \"weights/fcn_weakly_geobia3.hdf5\"\n",
    "\n"
   ]
  },
  {
   "cell_type": "code",
   "execution_count": 5,
   "metadata": {
    "collapsed": true
   },
   "outputs": [],
   "source": [
    "#the number of input channels\n",
    "nb = 3"
   ]
  },
  {
   "cell_type": "code",
   "execution_count": 6,
   "metadata": {
    "collapsed": true
   },
   "outputs": [],
   "source": [
    "def nulltozero(arr):\n",
    "    arrcopy = np.copy(arr)\n",
    "    low_values_flags = arrcopy < 0 #0.7,0  \n",
    "    arrcopy[low_values_flags]=0\n",
    "    return arrcopy"
   ]
  },
  {
   "cell_type": "code",
   "execution_count": 7,
   "metadata": {
    "collapsed": true
   },
   "outputs": [],
   "source": [
    "#functions for loading the images and converting them to arrays\n",
    "\n",
    "def img_to_array(*images):\n",
    "    \"\"\"Convert an image or list of images to numpy arrays.\n",
    "\n",
    "    Keyword arguments:\n",
    "    *images -- list containing the images to be converted\n",
    "    \"\"\"\n",
    "    imgarrays = []\n",
    "    i = 0\n",
    "    for img in images:\n",
    "        arr = gtiff_to_array(img)\n",
    "        imgarrays.append(arr)\n",
    "    return imgarrays\n",
    "\n",
    "\n",
    "def gtiff_to_array(imgfname):                                      \n",
    "    \"\"\"Transform a geotiff to numpy array.\n",
    "\n",
    "    Keyword arguments:\n",
    "    imgfnames -- filename of image to convert\n",
    "    \"\"\"\n",
    "    ds = gdal.Open(imgfname)\n",
    "    for band in range(ds.RasterCount):\n",
    "        band += 1\n",
    "        if band == 1:\n",
    "            arr = np.array(ds.GetRasterBand(band).ReadAsArray())\n",
    "            arr = np.expand_dims(arr, axis=2)\n",
    "        else:\n",
    "            concat = np.array(ds.GetRasterBand(band).ReadAsArray())\n",
    "            concat = np.expand_dims(concat, axis=2)\n",
    "            arr = np.concatenate((arr,\n",
    "                                  concat),\n",
    "                                 axis=2)\n",
    "    return arr\n",
    "\n",
    "def reclassgts2(gtsarray):\n",
    "    \"\"\"Reclassify ground truth dataset array to single class numbers.\n",
    "\n",
    "    Keyword arguments:\n",
    "    gtsarray -- the ground truth dataset array\n",
    "    \"\"\"\n",
    "    reclassarray = np.zeros(shape=(gtsarray.shape[0], gtsarray.shape[1]),\n",
    "                            dtype=np.uint8)\n",
    "    cnum = 1\n",
    "    mask = np.logical_or(np.logical_or(gtsarray[:,:,0]==1,gtsarray[:,:,0]==3),gtsarray[:,:,0]==4)\n",
    "    reclassarray[mask]=cnum\n",
    "\t\n",
    "    cnum2 = 2\n",
    "    mask = np.logical_or(gtsarray[:,:,0]==2,gtsarray[:,:,0]==2)\n",
    "    reclassarray[mask] = cnum2\n",
    "    return reclassarray"
   ]
  },
  {
   "cell_type": "code",
   "execution_count": 8,
   "metadata": {
    "collapsed": true
   },
   "outputs": [],
   "source": [
    "def build_model(psize1_row,psize1_col,nb,w8fname):\n",
    "    inp = Input(shape=(3, psize1_row, psize1_col))\n",
    "    x0=block_1(inp)\n",
    "    x1=block_1(x0)\n",
    "    x2=block_2(x1)\n",
    "    x3=block_2(x2)\n",
    "    x4=block_2(x3)\n",
    "    x5=block_2(x4)\n",
    "    x6=block_2(x5)\n",
    "    \"concatenation layer\"\n",
    "\n",
    "    xc6= Concatenate(axis = 1)([x0,x1,x2,x3,x4,x5,x6])\n",
    "    #x6=block_1(x3)\n",
    "    #x6_m = Add()([x1,x6])\n",
    "\n",
    "    x7=Conv2D(5, (1, 1))(xc6)\n",
    "\n",
    "    #x7=Conv2D(5, (1, 1))(x6)\n",
    "\n",
    "    #adding the softmax activation\n",
    "    out_p = Activation(softmax_4d)(x7)\n",
    "\n",
    "    #create the model \n",
    "\n",
    "    model = Model(input=inp,output=out_p)\n",
    "\n",
    "    sgd = SGD (lr = 0.01, decay = 0.001, momentum = 0.5, nesterov = True)\n",
    "\n",
    "    model.compile(optimizer=sgd, loss=categorical_CE2D,\n",
    "                    metrics=[categorical_accuracy2D])\n",
    "    #load the weights of the models\n",
    "    \t\t \t\t  \n",
    "    model.load_weights(w8fname)\n",
    "    return model"
   ]
  },
  {
   "cell_type": "code",
   "execution_count": 9,
   "metadata": {
    "collapsed": true
   },
   "outputs": [],
   "source": [
    "def cartesian(arrays, out=None):\n",
    "    arrays = [np.asarray(x) for x in arrays]\n",
    "    dtype = arrays[0].dtype\n",
    "    print(dtype)\n",
    "    n = np.prod([x.size for x in arrays])\n",
    "    if out is None:\n",
    "        out = np.zeros([n, len(arrays)], dtype=dtype)\n",
    "\n",
    "    m = n / arrays[0].size\n",
    "    out[:, 0] = np.repeat(arrays[0], m)\n",
    "    if arrays[1:]:\n",
    "        arrays[1:]=arrays[1:].astype(np.int32)\n",
    "        cartesian(arrays[1:], out=out[0:m, 1:])\n",
    "        for j in xrange(1, arrays[0].size):\n",
    "            out[j*m:(j+1)*m, 1:] = out[0:m, 1:]\n",
    "\n",
    "    return out"
   ]
  },
  {
   "cell_type": "code",
   "execution_count": 10,
   "metadata": {
    "collapsed": true
   },
   "outputs": [],
   "source": [
    "def get_confusion_matrix(predictions, labels):\n",
    "    \"\"\"Compute the confusion matrix.\n",
    "\n",
    "    Keyword arguments:\n",
    "    prediction -- the array output labels from the classification\n",
    "    results\n",
    "    labels -- the  array of \"true\" labels from the test set\n",
    "    Both arrays should match, be arranged accordingly, and\n",
    "    have non-negative values.\n",
    "    \"\"\"\n",
    "    classes = np.unique(labels)\n",
    "    #nbclasses = classes.size\n",
    "    if labels.size != predictions.size:\n",
    "        raise ValueError(\"There should be the same number of \" +\n",
    "                         \"predictions and labels.\")\n",
    "    merged = np.concatenate((predictions.reshape(predictions.size, 1),\n",
    "                             labels.reshape(labels.size, 1)), axis=1)\n",
    "    CM = np.zeros((classes[-1] + 1, classes[-1] + 1))\n",
    "    for c1 in classes:\n",
    "        for c2 in classes:\n",
    "            CM[c1, c2] = np.sum(np.logical_and(merged[:, 1] == c1,\n",
    "                                               merged[:, 0] == c2))\n",
    "    return CM"
   ]
  },
  {
   "cell_type": "code",
   "execution_count": 11,
   "metadata": {
    "collapsed": true
   },
   "outputs": [],
   "source": [
    "#create idxarray for the creation of the map\n",
    "    \n",
    "def sample_idx(arr):\n",
    "    \"\"\"Randomly sample an array stratified based on frequency.\n",
    "\n",
    "    Keyword arguments:\n",
    "    arr -- the array being sampled\n",
    "    cratios -- the representative fractions of each classes\n",
    "    n -- total number of samples (default 1000)\n",
    "    \"\"\"\n",
    "    i = 0\n",
    "    arr_copy = np.copy(arr)\n",
    "    idxarray = np.zeros(shape=(0, 2), dtype=np.int16)\n",
    "    nc = np.array(np.where(arr_copy >=0)).T.shape[0]\n",
    "    arr_flat = arr_copy.flatten()\n",
    "    n = arr_flat.shape[0]\n",
    "    randidx = np.asarray(range(n),dtype= np.int32)\n",
    "    #randidx=randidx.astype(np.int32)\n",
    "    idxarray = np.array(np.where(arr_copy >= 0)).T[randidx, :]\n",
    "\n",
    "    del arr_copy\n",
    "    return idxarray"
   ]
  },
  {
   "cell_type": "code",
   "execution_count": 12,
   "metadata": {
    "collapsed": true
   },
   "outputs": [],
   "source": [
    "def write_geotiff(fname, data, geo_transform, projection):\n",
    "    \"\"\"Create a GeoTIFF file with the given data.\"\"\"\n",
    "    driver = gdal.GetDriverByName('GTiff')\n",
    "    rows, cols = data.shape\n",
    "    dataset = driver.Create(fname, cols, rows, 1, gdal.GDT_Byte)\n",
    "    dataset.SetGeoTransform(geo_transform)\n",
    "    dataset.SetProjection(projection)\n",
    "    band = dataset.GetRasterBand(1)\n",
    "    band.WriteArray(data)\n",
    "    dataset = None  # Close the file"
   ]
  },
  {
   "cell_type": "code",
   "execution_count": 13,
   "metadata": {
    "collapsed": true
   },
   "outputs": [],
   "source": [
    "def print_map(predictions, idxarray, filename=None, ccolors=None):\n",
    "    \"\"\"Print the classified map.\n",
    "\n",
    "    Keyword arguments:\n",
    "    predictions -- the array output labels from the classification\n",
    "    results\n",
    "    idxarray -- the array of indices of the classified samples\n",
    "    to be plotted.\n",
    "    filename -- the name (with the directory) of the file where to\n",
    "    write the map.\n",
    "    ccolors -- an array of tuples containing rgb values for the classes\n",
    "    Both arrays should match and be arranged accordingly. And the\n",
    "    index of the color should match the value of the of prediction.\n",
    "    \"\"\"\n",
    "    if predictions.size != idxarray.shape[0]:\n",
    "        raise ValueError(\"There should be the same number of \" +\n",
    "                         \"predictions and indices.\")\n",
    "    nrows, ncols = np.max(idxarray[:, 0])+1, np.max(idxarray[:, 1])+1\n",
    "    classifiedmap = np.zeros((nrows, ncols, 3), dtype=\"uint8\")\n",
    "    idx = 0\n",
    "    for prediction in predictions:\n",
    "        classifiedmap[idxarray[idx, 0],\n",
    "                      idxarray[idx, 1]] = np.asarray(ccolors[prediction-0])#i changed from predictions-1 to predictions-0, because predictions are 0,1\n",
    "        idx += 1\n",
    "    if filename is None:\n",
    "        plt.imshow(classifiedmap)\n",
    "        plt.show()\n",
    "    else:\n",
    "        classifiedimg = Image.fromarray(classifiedmap.astype(np.uint8))\n",
    "        classifiedimg.save(filename)"
   ]
  },
  {
   "cell_type": "code",
   "execution_count": 14,
   "metadata": {
    "collapsed": true
   },
   "outputs": [],
   "source": [
    "_bld = (0, 0,255)\n",
    "_veg = (0, 255, 0)\n",
    "_bare_soil = (210, 180, 140)\n",
    "_impervious = (128, 128,128)\n",
    "_shadow=(0, 0, 0)\n",
    "#_veg = (0, 255, 0)\n",
    "#_ccolors = (_bldg, _water, _lowveg, _tree)\n",
    "_ccolors = (_bld,_veg,_bare_soil,_impervious,_shadow)"
   ]
  },
  {
   "cell_type": "code",
   "execution_count": 15,
   "metadata": {
    "collapsed": true
   },
   "outputs": [],
   "source": [
    "#top_tile2 = \"H:/tiles/grayscale/tile2_v4_gray_n.tif\"\n",
    "#top_tile2 = \"H:/goma_train_seg/TRAINING_TILE/TILE2_clip.tif\"\n",
    "top_tile4 = \"H:/goma_train_seg/TESTING_TILE/TILE4_revised.tif\"\n",
    "#tile2 = \"H:/goma_train_seg/TRAINING_TILE/TILE2_clip.tif\"\n",
    "test_sample_arr = \"H:/BUKAVU-2018/PRELIM_CNN/GTS_IMAGES/tile4_img.tiff\"\n",
    "\"loading the data for tile 4\"\n",
    "toparray_raw,test_sample_pts = img_to_array(top_tile4,test_sample_arr)\n",
    "#toparray = norm_data(toparray_raw)\n"
   ]
  },
  {
   "cell_type": "code",
   "execution_count": 16,
   "metadata": {
    "collapsed": true
   },
   "outputs": [],
   "source": [
    "#extract geometry\n",
    "raster_dataset = gdal.Open(top_tile4, gdal.GA_ReadOnly)\n",
    "geo_transform = raster_dataset.GetGeoTransform()\n",
    "proj = raster_dataset.GetProjectionRef()\n"
   ]
  },
  {
   "cell_type": "code",
   "execution_count": 17,
   "metadata": {
    "collapsed": true
   },
   "outputs": [],
   "source": [
    "\"remove the nulls and normalize\"\n",
    "toparray_raw=nulltozero(toparray_raw)\n",
    "toparray_raw=toparray_raw/np.amax(toparray_raw)"
   ]
  },
  {
   "cell_type": "code",
   "execution_count": 18,
   "metadata": {},
   "outputs": [
    {
     "data": {
      "text/plain": [
       "<matplotlib.image.AxesImage at 0x73ca90b8>"
      ]
     },
     "execution_count": 18,
     "metadata": {},
     "output_type": "execute_result"
    },
    {
     "data": {
      "image/png": "[encoded data removed]",
      "text/plain": [
       "<matplotlib.figure.Figure at 0x55cec0b8>"
      ]
     },
     "metadata": {},
     "output_type": "display_data"
    }
   ],
   "source": [
    "%matplotlib inline\n",
    "plt.imshow(toparray_raw[:,:,0])"
   ]
  },
  {
   "cell_type": "code",
   "execution_count": 19,
   "metadata": {
    "collapsed": true
   },
   "outputs": [],
   "source": [
    "toparray = toparray_raw"
   ]
  },
  {
   "cell_type": "code",
   "execution_count": 20,
   "metadata": {
    "collapsed": true
   },
   "outputs": [],
   "source": [
    "#test_sample_points_arr.shape\n",
    "#labelidx = np.where(test_sample_points_arr!=0)"
   ]
  },
  {
   "cell_type": "code",
   "execution_count": 21,
   "metadata": {
    "collapsed": true
   },
   "outputs": [],
   "source": [
    "#len(labelidx)\n",
    "#labelidx[1]\n"
   ]
  },
  {
   "cell_type": "code",
   "execution_count": 20,
   "metadata": {
    "collapsed": true
   },
   "outputs": [],
   "source": [
    "#Now we prepare to predict the map\n",
    "test_sample_points_arr = np.reshape(test_sample_pts,(test_sample_pts.shape[0],test_sample_pts.shape[1]))\n",
    "\n",
    "#test_sample_points_arr = test_sample_points_arr[:2000,:2000]\n",
    "def swap_axes(array):\n",
    "    image_1 = np.swapaxes(array, 0, 1)\n",
    "    image_2 = np.swapaxes (image_1,0, 2)\n",
    "    image_3 = np.expand_dims(image_2, axis = 0)\n",
    "    return image_3\n",
    "    \n",
    "area5_swapped = swap_axes(toparray)\n",
    "image = area5_swapped"
   ]
  },
  {
   "cell_type": "code",
   "execution_count": 21,
   "metadata": {},
   "outputs": [
    {
     "ename": "NameError",
     "evalue": "name 'Y_test' is not defined",
     "output_type": "error",
     "traceback": [
      "\u001b[1;31m---------------------------------------------------------------------------\u001b[0m",
      "\u001b[1;31mNameError\u001b[0m                                 Traceback (most recent call last)",
      "\u001b[1;32m<ipython-input-21-f9fadec66f79>\u001b[0m in \u001b[0;36m<module>\u001b[1;34m()\u001b[0m\n\u001b[0;32m      1\u001b[0m \u001b[1;31m#image.shape\u001b[0m\u001b[1;33m\u001b[0m\u001b[1;33m\u001b[0m\u001b[0m\n\u001b[1;32m----> 2\u001b[1;33m \u001b[0mY_test\u001b[0m\u001b[1;33m.\u001b[0m\u001b[0mshape\u001b[0m\u001b[1;33m\u001b[0m\u001b[0m\n\u001b[0m",
      "\u001b[1;31mNameError\u001b[0m: name 'Y_test' is not defined"
     ]
    }
   ],
   "source": [
    "#image.shape\n",
    "#Y_test.shape"
   ]
  },
  {
   "cell_type": "code",
   "execution_count": 21,
   "metadata": {
    "collapsed": true
   },
   "outputs": [],
   "source": [
    "Y_test = test_sample_points_arr"
   ]
  },
  {
   "cell_type": "code",
   "execution_count": 22,
   "metadata": {
    "collapsed": true
   },
   "outputs": [],
   "source": [
    "a = np.zeros(shape =(toparray.shape[0],toparray.shape[1]))\n",
    "\n",
    "mapidx_a_tile2 = sample_idx(a)"
   ]
  },
  {
   "cell_type": "code",
   "execution_count": 23,
   "metadata": {
    "collapsed": true
   },
   "outputs": [],
   "source": [
    "def evaluate_predictions(X_test,\n",
    "                         w8fname,predsdir,\n",
    "                         cut, overlap,\n",
    "                         Y_test,mapidx,labels_pts_array):\n",
    "    #nrows = Y_test.shape[0]\n",
    "    #ncols = Y_test.shape[1]\n",
    "    #nrows=8750\n",
    "    #ncols=7970\n",
    "    #nrows = 9320 #for tile 2\n",
    "    #ncols = 7744\n",
    "    nrows=X_test.shape[0]\n",
    "    ncols=X_Test.shape[1]\n",
    "    #nrows = 9407 \n",
    "    #ncols = 7970\n",
    "    total_map = np.zeros((nrows, ncols), dtype=np.uint8)\n",
    "    first = True\n",
    "    last = False\n",
    "    if nrows%(cut)==0:\n",
    "        numstrips = int((nrows/(cut)))\n",
    "    else:\n",
    "        numstrips = int((nrows/(cut)) + 1)\n",
    "    for i in range(numstrips):\n",
    "        print(\"Strip number: %d\" % i)\n",
    "        if first:\n",
    "            striptop = 0\n",
    "            stripbottom = overlap\n",
    "            height = cut\n",
    "            X_sub1 = X_test1[:, :,\n",
    "                             cut*i-striptop:(cut*i)+height+stripbottom, :]\n",
    "            first = False\n",
    "        elif (not first) and (cut*(i+1)+1+overlap < nrows):\n",
    "            striptop = overlap\n",
    "            stripbottom = overlap\n",
    "            height = cut\n",
    "            X_sub1 = X_test1[:, :,\n",
    "                             cut*i-striptop:(cut*i)+height+stripbottom, :]\n",
    "        else:\n",
    "            print(\"Last hit!\")\n",
    "            striptop = overlap\n",
    "            stripbottom = 0\n",
    "            height = nrows - cut*i\n",
    "            X_sub1 = X_test1[:, :,\n",
    "                             -(striptop+height):, :]\n",
    "            last = True\n",
    "            \n",
    "        sub1_nrows = X_sub1.shape[2]\n",
    "        sub1_ncols = X_sub1.shape[3]\n",
    "        model = build_model(sub1_nrows, sub1_ncols,\n",
    "                                nb, w8fname)\n",
    "        #cmap = model.predict_on_batch([X_sub1])\n",
    "        cmap = model.predict(X_sub1,batch_size=32)\n",
    "        cmap = np.argmax(cmap[0], axis=0)\n",
    "        if not last:\n",
    "                total_map[cut*i:cut*i+height, :] = cmap[striptop:striptop+height, 0:total_map.shape[1]]\n",
    "        else:\n",
    "            height = nrows - cut*i\n",
    "            total_map[cut*i:-1, :] = cmap[-(height):-1, 0:total_map.shape[1]]\n",
    "            \n",
    "    labelidx = np.where(labels_pts_array!=0)\n",
    "    labels = labels_pts_array[labelidx]\n",
    "    labels = labels.astype(\"uint8\")\n",
    "    labels = labels - 1\n",
    "    \n",
    "    #mapidx = sample_idx(rgtsarray)\n",
    "    #print(mapidx.shape)\n",
    "    #mapfname = predsdir + \"fcn_vanilla_tile4_ol_ndsm_50.tif\"\n",
    "    mapfname = predsdir + \"fcn_vanilla_weakly1_obia_tile4.tif\"\n",
    "    \n",
    "    #calculate the oa\n",
    "    cmap_sparse = total_map[labelidx]\n",
    "    CM = get_confusion_matrix(cmap_sparse, labels)\n",
    "    OA = np.sum(np.diag(CM))/cmap_sparse.size\n",
    "    print(CM)\n",
    "    print(\"Full OA: %f\" % OA)\n",
    "    \n",
    "    \n",
    "    #Make this section independent\n",
    "    total_map = total_map.flatten()\n",
    "    print (total_map.shape)\n",
    "    print_map(total_map, mapidx,ccolors=_ccolors, filename=mapfname)"
   ]
  },
  {
   "cell_type": "code",
   "execution_count": 27,
   "metadata": {},
   "outputs": [
    {
     "name": "stdout",
     "output_type": "stream",
     "text": [
      "Strip number: 0\n"
     ]
    },
    {
     "name": "stderr",
     "output_type": "stream",
     "text": [
      "C:\\Users\\Nicholus\\AppData\\Local\\conda\\conda\\envs\\env_name27\\lib\\site-packages\\ipykernel_launcher.py:25: UserWarning: Update your `Model` call to the Keras 2 API: `Model(outputs=Reshape{4}..., inputs=/input_191)`\n"
     ]
    },
    {
     "name": "stdout",
     "output_type": "stream",
     "text": [
      "Strip number: 1\n"
     ]
    },
    {
     "name": "stderr",
     "output_type": "stream",
     "text": [
      "C:\\Users\\Nicholus\\AppData\\Local\\conda\\conda\\envs\\env_name27\\lib\\site-packages\\ipykernel_launcher.py:25: UserWarning: Update your `Model` call to the Keras 2 API: `Model(outputs=Reshape{4}..., inputs=/input_192)`\n"
     ]
    },
    {
     "name": "stdout",
     "output_type": "stream",
     "text": [
      "Strip number: 2\n"
     ]
    },
    {
     "name": "stderr",
     "output_type": "stream",
     "text": [
      "C:\\Users\\Nicholus\\AppData\\Local\\conda\\conda\\envs\\env_name27\\lib\\site-packages\\ipykernel_launcher.py:25: UserWarning: Update your `Model` call to the Keras 2 API: `Model(outputs=Reshape{4}..., inputs=/input_193)`\n"
     ]
    },
    {
     "name": "stdout",
     "output_type": "stream",
     "text": [
      "Strip number: 3\n"
     ]
    },
    {
     "name": "stderr",
     "output_type": "stream",
     "text": [
      "C:\\Users\\Nicholus\\AppData\\Local\\conda\\conda\\envs\\env_name27\\lib\\site-packages\\ipykernel_launcher.py:25: UserWarning: Update your `Model` call to the Keras 2 API: `Model(outputs=Reshape{4}..., inputs=/input_194)`\n"
     ]
    },
    {
     "name": "stdout",
     "output_type": "stream",
     "text": [
      "Strip number: 4\n"
     ]
    },
    {
     "name": "stderr",
     "output_type": "stream",
     "text": [
      "C:\\Users\\Nicholus\\AppData\\Local\\conda\\conda\\envs\\env_name27\\lib\\site-packages\\ipykernel_launcher.py:25: UserWarning: Update your `Model` call to the Keras 2 API: `Model(outputs=Reshape{4}..., inputs=/input_195)`\n"
     ]
    },
    {
     "name": "stdout",
     "output_type": "stream",
     "text": [
      "Strip number: 5\n"
     ]
    },
    {
     "name": "stderr",
     "output_type": "stream",
     "text": [
      "C:\\Users\\Nicholus\\AppData\\Local\\conda\\conda\\envs\\env_name27\\lib\\site-packages\\ipykernel_launcher.py:25: UserWarning: Update your `Model` call to the Keras 2 API: `Model(outputs=Reshape{4}..., inputs=/input_196)`\n"
     ]
    },
    {
     "name": "stdout",
     "output_type": "stream",
     "text": [
      "Strip number: 6\n"
     ]
    },
    {
     "name": "stderr",
     "output_type": "stream",
     "text": [
      "C:\\Users\\Nicholus\\AppData\\Local\\conda\\conda\\envs\\env_name27\\lib\\site-packages\\ipykernel_launcher.py:25: UserWarning: Update your `Model` call to the Keras 2 API: `Model(outputs=Reshape{4}..., inputs=/input_197)`\n"
     ]
    },
    {
     "name": "stdout",
     "output_type": "stream",
     "text": [
      "Strip number: 7\n"
     ]
    },
    {
     "name": "stderr",
     "output_type": "stream",
     "text": [
      "C:\\Users\\Nicholus\\AppData\\Local\\conda\\conda\\envs\\env_name27\\lib\\site-packages\\ipykernel_launcher.py:25: UserWarning: Update your `Model` call to the Keras 2 API: `Model(outputs=Reshape{4}..., inputs=/input_198)`\n"
     ]
    },
    {
     "name": "stdout",
     "output_type": "stream",
     "text": [
      "Strip number: 8\n"
     ]
    },
    {
     "name": "stderr",
     "output_type": "stream",
     "text": [
      "C:\\Users\\Nicholus\\AppData\\Local\\conda\\conda\\envs\\env_name27\\lib\\site-packages\\ipykernel_launcher.py:25: UserWarning: Update your `Model` call to the Keras 2 API: `Model(outputs=Reshape{4}..., inputs=/input_199)`\n"
     ]
    },
    {
     "name": "stdout",
     "output_type": "stream",
     "text": [
      "Strip number: 9\n"
     ]
    },
    {
     "name": "stderr",
     "output_type": "stream",
     "text": [
      "C:\\Users\\Nicholus\\AppData\\Local\\conda\\conda\\envs\\env_name27\\lib\\site-packages\\ipykernel_launcher.py:25: UserWarning: Update your `Model` call to the Keras 2 API: `Model(outputs=Reshape{4}..., inputs=/input_200)`\n"
     ]
    },
    {
     "name": "stdout",
     "output_type": "stream",
     "text": [
      "Strip number: 10\n"
     ]
    },
    {
     "name": "stderr",
     "output_type": "stream",
     "text": [
      "C:\\Users\\Nicholus\\AppData\\Local\\conda\\conda\\envs\\env_name27\\lib\\site-packages\\ipykernel_launcher.py:25: UserWarning: Update your `Model` call to the Keras 2 API: `Model(outputs=Reshape{4}..., inputs=/input_201)`\n"
     ]
    },
    {
     "name": "stdout",
     "output_type": "stream",
     "text": [
      "Strip number: 11\n"
     ]
    },
    {
     "name": "stderr",
     "output_type": "stream",
     "text": [
      "C:\\Users\\Nicholus\\AppData\\Local\\conda\\conda\\envs\\env_name27\\lib\\site-packages\\ipykernel_launcher.py:25: UserWarning: Update your `Model` call to the Keras 2 API: `Model(outputs=Reshape{4}..., inputs=/input_202)`\n"
     ]
    },
    {
     "name": "stdout",
     "output_type": "stream",
     "text": [
      "Strip number: 12\n"
     ]
    },
    {
     "name": "stderr",
     "output_type": "stream",
     "text": [
      "C:\\Users\\Nicholus\\AppData\\Local\\conda\\conda\\envs\\env_name27\\lib\\site-packages\\ipykernel_launcher.py:25: UserWarning: Update your `Model` call to the Keras 2 API: `Model(outputs=Reshape{4}..., inputs=/input_203)`\n"
     ]
    },
    {
     "name": "stdout",
     "output_type": "stream",
     "text": [
      "Strip number: 13\n"
     ]
    },
    {
     "name": "stderr",
     "output_type": "stream",
     "text": [
      "C:\\Users\\Nicholus\\AppData\\Local\\conda\\conda\\envs\\env_name27\\lib\\site-packages\\ipykernel_launcher.py:25: UserWarning: Update your `Model` call to the Keras 2 API: `Model(outputs=Reshape{4}..., inputs=/input_204)`\n"
     ]
    },
    {
     "name": "stdout",
     "output_type": "stream",
     "text": [
      "Strip number: 14\n"
     ]
    },
    {
     "name": "stderr",
     "output_type": "stream",
     "text": [
      "C:\\Users\\Nicholus\\AppData\\Local\\conda\\conda\\envs\\env_name27\\lib\\site-packages\\ipykernel_launcher.py:25: UserWarning: Update your `Model` call to the Keras 2 API: `Model(outputs=Reshape{4}..., inputs=/input_205)`\n"
     ]
    },
    {
     "name": "stdout",
     "output_type": "stream",
     "text": [
      "Strip number: 15\n"
     ]
    },
    {
     "name": "stderr",
     "output_type": "stream",
     "text": [
      "C:\\Users\\Nicholus\\AppData\\Local\\conda\\conda\\envs\\env_name27\\lib\\site-packages\\ipykernel_launcher.py:25: UserWarning: Update your `Model` call to the Keras 2 API: `Model(outputs=Reshape{4}..., inputs=/input_206)`\n"
     ]
    },
    {
     "name": "stdout",
     "output_type": "stream",
     "text": [
      "Strip number: 16\n"
     ]
    },
    {
     "name": "stderr",
     "output_type": "stream",
     "text": [
      "C:\\Users\\Nicholus\\AppData\\Local\\conda\\conda\\envs\\env_name27\\lib\\site-packages\\ipykernel_launcher.py:25: UserWarning: Update your `Model` call to the Keras 2 API: `Model(outputs=Reshape{4}..., inputs=/input_207)`\n"
     ]
    },
    {
     "name": "stdout",
     "output_type": "stream",
     "text": [
      "Strip number: 17\n"
     ]
    },
    {
     "name": "stderr",
     "output_type": "stream",
     "text": [
      "C:\\Users\\Nicholus\\AppData\\Local\\conda\\conda\\envs\\env_name27\\lib\\site-packages\\ipykernel_launcher.py:25: UserWarning: Update your `Model` call to the Keras 2 API: `Model(outputs=Reshape{4}..., inputs=/input_208)`\n"
     ]
    },
    {
     "name": "stdout",
     "output_type": "stream",
     "text": [
      "Strip number: 18\n"
     ]
    },
    {
     "name": "stderr",
     "output_type": "stream",
     "text": [
      "C:\\Users\\Nicholus\\AppData\\Local\\conda\\conda\\envs\\env_name27\\lib\\site-packages\\ipykernel_launcher.py:25: UserWarning: Update your `Model` call to the Keras 2 API: `Model(outputs=Reshape{4}..., inputs=/input_209)`\n"
     ]
    },
    {
     "name": "stdout",
     "output_type": "stream",
     "text": [
      "Strip number: 19\n"
     ]
    },
    {
     "name": "stderr",
     "output_type": "stream",
     "text": [
      "C:\\Users\\Nicholus\\AppData\\Local\\conda\\conda\\envs\\env_name27\\lib\\site-packages\\ipykernel_launcher.py:25: UserWarning: Update your `Model` call to the Keras 2 API: `Model(outputs=Reshape{4}..., inputs=/input_210)`\n"
     ]
    },
    {
     "name": "stdout",
     "output_type": "stream",
     "text": [
      "Strip number: 20\n"
     ]
    },
    {
     "name": "stderr",
     "output_type": "stream",
     "text": [
      "C:\\Users\\Nicholus\\AppData\\Local\\conda\\conda\\envs\\env_name27\\lib\\site-packages\\ipykernel_launcher.py:25: UserWarning: Update your `Model` call to the Keras 2 API: `Model(outputs=Reshape{4}..., inputs=/input_211)`\n"
     ]
    },
    {
     "name": "stdout",
     "output_type": "stream",
     "text": [
      "Strip number: 21\n"
     ]
    },
    {
     "name": "stderr",
     "output_type": "stream",
     "text": [
      "C:\\Users\\Nicholus\\AppData\\Local\\conda\\conda\\envs\\env_name27\\lib\\site-packages\\ipykernel_launcher.py:25: UserWarning: Update your `Model` call to the Keras 2 API: `Model(outputs=Reshape{4}..., inputs=/input_212)`\n"
     ]
    },
    {
     "name": "stdout",
     "output_type": "stream",
     "text": [
      "Strip number: 22\n"
     ]
    },
    {
     "name": "stderr",
     "output_type": "stream",
     "text": [
      "C:\\Users\\Nicholus\\AppData\\Local\\conda\\conda\\envs\\env_name27\\lib\\site-packages\\ipykernel_launcher.py:25: UserWarning: Update your `Model` call to the Keras 2 API: `Model(outputs=Reshape{4}..., inputs=/input_213)`\n"
     ]
    },
    {
     "name": "stdout",
     "output_type": "stream",
     "text": [
      "Strip number: 23\n"
     ]
    },
    {
     "name": "stderr",
     "output_type": "stream",
     "text": [
      "C:\\Users\\Nicholus\\AppData\\Local\\conda\\conda\\envs\\env_name27\\lib\\site-packages\\ipykernel_launcher.py:25: UserWarning: Update your `Model` call to the Keras 2 API: `Model(outputs=Reshape{4}..., inputs=/input_214)`\n"
     ]
    },
    {
     "name": "stdout",
     "output_type": "stream",
     "text": [
      "Strip number: 24\n"
     ]
    },
    {
     "name": "stderr",
     "output_type": "stream",
     "text": [
      "C:\\Users\\Nicholus\\AppData\\Local\\conda\\conda\\envs\\env_name27\\lib\\site-packages\\ipykernel_launcher.py:25: UserWarning: Update your `Model` call to the Keras 2 API: `Model(outputs=Reshape{4}..., inputs=/input_215)`\n"
     ]
    },
    {
     "name": "stdout",
     "output_type": "stream",
     "text": [
      "Strip number: 25\n"
     ]
    },
    {
     "name": "stderr",
     "output_type": "stream",
     "text": [
      "C:\\Users\\Nicholus\\AppData\\Local\\conda\\conda\\envs\\env_name27\\lib\\site-packages\\ipykernel_launcher.py:25: UserWarning: Update your `Model` call to the Keras 2 API: `Model(outputs=Reshape{4}..., inputs=/input_216)`\n"
     ]
    },
    {
     "name": "stdout",
     "output_type": "stream",
     "text": [
      "Strip number: 26\n"
     ]
    },
    {
     "name": "stderr",
     "output_type": "stream",
     "text": [
      "C:\\Users\\Nicholus\\AppData\\Local\\conda\\conda\\envs\\env_name27\\lib\\site-packages\\ipykernel_launcher.py:25: UserWarning: Update your `Model` call to the Keras 2 API: `Model(outputs=Reshape{4}..., inputs=/input_217)`\n"
     ]
    },
    {
     "name": "stdout",
     "output_type": "stream",
     "text": [
      "Strip number: 27\n"
     ]
    },
    {
     "name": "stderr",
     "output_type": "stream",
     "text": [
      "C:\\Users\\Nicholus\\AppData\\Local\\conda\\conda\\envs\\env_name27\\lib\\site-packages\\ipykernel_launcher.py:25: UserWarning: Update your `Model` call to the Keras 2 API: `Model(outputs=Reshape{4}..., inputs=/input_218)`\n"
     ]
    },
    {
     "name": "stdout",
     "output_type": "stream",
     "text": [
      "Strip number: 28\n"
     ]
    },
    {
     "name": "stderr",
     "output_type": "stream",
     "text": [
      "C:\\Users\\Nicholus\\AppData\\Local\\conda\\conda\\envs\\env_name27\\lib\\site-packages\\ipykernel_launcher.py:25: UserWarning: Update your `Model` call to the Keras 2 API: `Model(outputs=Reshape{4}..., inputs=/input_219)`\n"
     ]
    },
    {
     "name": "stdout",
     "output_type": "stream",
     "text": [
      "Strip number: 29\n"
     ]
    },
    {
     "name": "stderr",
     "output_type": "stream",
     "text": [
      "C:\\Users\\Nicholus\\AppData\\Local\\conda\\conda\\envs\\env_name27\\lib\\site-packages\\ipykernel_launcher.py:25: UserWarning: Update your `Model` call to the Keras 2 API: `Model(outputs=Reshape{4}..., inputs=/input_220)`\n"
     ]
    },
    {
     "name": "stdout",
     "output_type": "stream",
     "text": [
      "Strip number: 30\n"
     ]
    },
    {
     "name": "stderr",
     "output_type": "stream",
     "text": [
      "C:\\Users\\Nicholus\\AppData\\Local\\conda\\conda\\envs\\env_name27\\lib\\site-packages\\ipykernel_launcher.py:25: UserWarning: Update your `Model` call to the Keras 2 API: `Model(outputs=Reshape{4}..., inputs=/input_221)`\n"
     ]
    },
    {
     "name": "stdout",
     "output_type": "stream",
     "text": [
      "Strip number: 31\n"
     ]
    },
    {
     "name": "stderr",
     "output_type": "stream",
     "text": [
      "C:\\Users\\Nicholus\\AppData\\Local\\conda\\conda\\envs\\env_name27\\lib\\site-packages\\ipykernel_launcher.py:25: UserWarning: Update your `Model` call to the Keras 2 API: `Model(outputs=Reshape{4}..., inputs=/input_222)`\n"
     ]
    },
    {
     "name": "stdout",
     "output_type": "stream",
     "text": [
      "Strip number: 32\n"
     ]
    },
    {
     "name": "stderr",
     "output_type": "stream",
     "text": [
      "C:\\Users\\Nicholus\\AppData\\Local\\conda\\conda\\envs\\env_name27\\lib\\site-packages\\ipykernel_launcher.py:25: UserWarning: Update your `Model` call to the Keras 2 API: `Model(outputs=Reshape{4}..., inputs=/input_223)`\n"
     ]
    },
    {
     "name": "stdout",
     "output_type": "stream",
     "text": [
      "Strip number: 33\n"
     ]
    },
    {
     "name": "stderr",
     "output_type": "stream",
     "text": [
      "C:\\Users\\Nicholus\\AppData\\Local\\conda\\conda\\envs\\env_name27\\lib\\site-packages\\ipykernel_launcher.py:25: UserWarning: Update your `Model` call to the Keras 2 API: `Model(outputs=Reshape{4}..., inputs=/input_224)`\n"
     ]
    },
    {
     "name": "stdout",
     "output_type": "stream",
     "text": [
      "Strip number: 34\n"
     ]
    },
    {
     "name": "stderr",
     "output_type": "stream",
     "text": [
      "C:\\Users\\Nicholus\\AppData\\Local\\conda\\conda\\envs\\env_name27\\lib\\site-packages\\ipykernel_launcher.py:25: UserWarning: Update your `Model` call to the Keras 2 API: `Model(outputs=Reshape{4}..., inputs=/input_225)`\n"
     ]
    },
    {
     "name": "stdout",
     "output_type": "stream",
     "text": [
      "Strip number: 35\n"
     ]
    },
    {
     "name": "stderr",
     "output_type": "stream",
     "text": [
      "C:\\Users\\Nicholus\\AppData\\Local\\conda\\conda\\envs\\env_name27\\lib\\site-packages\\ipykernel_launcher.py:25: UserWarning: Update your `Model` call to the Keras 2 API: `Model(outputs=Reshape{4}..., inputs=/input_226)`\n"
     ]
    },
    {
     "name": "stdout",
     "output_type": "stream",
     "text": [
      "Strip number: 36\n"
     ]
    },
    {
     "name": "stderr",
     "output_type": "stream",
     "text": [
      "C:\\Users\\Nicholus\\AppData\\Local\\conda\\conda\\envs\\env_name27\\lib\\site-packages\\ipykernel_launcher.py:25: UserWarning: Update your `Model` call to the Keras 2 API: `Model(outputs=Reshape{4}..., inputs=/input_227)`\n"
     ]
    },
    {
     "name": "stdout",
     "output_type": "stream",
     "text": [
      "Strip number: 37\n"
     ]
    },
    {
     "name": "stderr",
     "output_type": "stream",
     "text": [
      "C:\\Users\\Nicholus\\AppData\\Local\\conda\\conda\\envs\\env_name27\\lib\\site-packages\\ipykernel_launcher.py:25: UserWarning: Update your `Model` call to the Keras 2 API: `Model(outputs=Reshape{4}..., inputs=/input_228)`\n"
     ]
    },
    {
     "name": "stdout",
     "output_type": "stream",
     "text": [
      "Strip number: 38\n"
     ]
    },
    {
     "name": "stderr",
     "output_type": "stream",
     "text": [
      "C:\\Users\\Nicholus\\AppData\\Local\\conda\\conda\\envs\\env_name27\\lib\\site-packages\\ipykernel_launcher.py:25: UserWarning: Update your `Model` call to the Keras 2 API: `Model(outputs=Reshape{4}..., inputs=/input_229)`\n"
     ]
    },
    {
     "name": "stdout",
     "output_type": "stream",
     "text": [
      "Strip number: 39\n"
     ]
    },
    {
     "name": "stderr",
     "output_type": "stream",
     "text": [
      "C:\\Users\\Nicholus\\AppData\\Local\\conda\\conda\\envs\\env_name27\\lib\\site-packages\\ipykernel_launcher.py:25: UserWarning: Update your `Model` call to the Keras 2 API: `Model(outputs=Reshape{4}..., inputs=/input_230)`\n"
     ]
    },
    {
     "name": "stdout",
     "output_type": "stream",
     "text": [
      "Strip number: 40\n"
     ]
    },
    {
     "name": "stderr",
     "output_type": "stream",
     "text": [
      "C:\\Users\\Nicholus\\AppData\\Local\\conda\\conda\\envs\\env_name27\\lib\\site-packages\\ipykernel_launcher.py:25: UserWarning: Update your `Model` call to the Keras 2 API: `Model(outputs=Reshape{4}..., inputs=/input_231)`\n"
     ]
    },
    {
     "name": "stdout",
     "output_type": "stream",
     "text": [
      "Strip number: 41\n"
     ]
    },
    {
     "name": "stderr",
     "output_type": "stream",
     "text": [
      "C:\\Users\\Nicholus\\AppData\\Local\\conda\\conda\\envs\\env_name27\\lib\\site-packages\\ipykernel_launcher.py:25: UserWarning: Update your `Model` call to the Keras 2 API: `Model(outputs=Reshape{4}..., inputs=/input_232)`\n"
     ]
    },
    {
     "name": "stdout",
     "output_type": "stream",
     "text": [
      "Strip number: 42\n"
     ]
    },
    {
     "name": "stderr",
     "output_type": "stream",
     "text": [
      "C:\\Users\\Nicholus\\AppData\\Local\\conda\\conda\\envs\\env_name27\\lib\\site-packages\\ipykernel_launcher.py:25: UserWarning: Update your `Model` call to the Keras 2 API: `Model(outputs=Reshape{4}..., inputs=/input_233)`\n"
     ]
    },
    {
     "name": "stdout",
     "output_type": "stream",
     "text": [
      "Strip number: 43\n"
     ]
    },
    {
     "name": "stderr",
     "output_type": "stream",
     "text": [
      "C:\\Users\\Nicholus\\AppData\\Local\\conda\\conda\\envs\\env_name27\\lib\\site-packages\\ipykernel_launcher.py:25: UserWarning: Update your `Model` call to the Keras 2 API: `Model(outputs=Reshape{4}..., inputs=/input_234)`\n"
     ]
    },
    {
     "name": "stdout",
     "output_type": "stream",
     "text": [
      "Strip number: 44\n"
     ]
    },
    {
     "name": "stderr",
     "output_type": "stream",
     "text": [
      "C:\\Users\\Nicholus\\AppData\\Local\\conda\\conda\\envs\\env_name27\\lib\\site-packages\\ipykernel_launcher.py:25: UserWarning: Update your `Model` call to the Keras 2 API: `Model(outputs=Reshape{4}..., inputs=/input_235)`\n"
     ]
    },
    {
     "name": "stdout",
     "output_type": "stream",
     "text": [
      "Strip number: 45\n"
     ]
    },
    {
     "name": "stderr",
     "output_type": "stream",
     "text": [
      "C:\\Users\\Nicholus\\AppData\\Local\\conda\\conda\\envs\\env_name27\\lib\\site-packages\\ipykernel_launcher.py:25: UserWarning: Update your `Model` call to the Keras 2 API: `Model(outputs=Reshape{4}..., inputs=/input_236)`\n"
     ]
    },
    {
     "name": "stdout",
     "output_type": "stream",
     "text": [
      "Strip number: 46\n"
     ]
    },
    {
     "name": "stderr",
     "output_type": "stream",
     "text": [
      "C:\\Users\\Nicholus\\AppData\\Local\\conda\\conda\\envs\\env_name27\\lib\\site-packages\\ipykernel_launcher.py:25: UserWarning: Update your `Model` call to the Keras 2 API: `Model(outputs=Reshape{4}..., inputs=/input_237)`\n"
     ]
    },
    {
     "name": "stdout",
     "output_type": "stream",
     "text": [
      "Strip number: 47\n"
     ]
    },
    {
     "name": "stderr",
     "output_type": "stream",
     "text": [
      "C:\\Users\\Nicholus\\AppData\\Local\\conda\\conda\\envs\\env_name27\\lib\\site-packages\\ipykernel_launcher.py:25: UserWarning: Update your `Model` call to the Keras 2 API: `Model(outputs=Reshape{4}..., inputs=/input_238)`\n"
     ]
    },
    {
     "name": "stdout",
     "output_type": "stream",
     "text": [
      "Strip number: 48\n"
     ]
    },
    {
     "name": "stderr",
     "output_type": "stream",
     "text": [
      "C:\\Users\\Nicholus\\AppData\\Local\\conda\\conda\\envs\\env_name27\\lib\\site-packages\\ipykernel_launcher.py:25: UserWarning: Update your `Model` call to the Keras 2 API: `Model(outputs=Reshape{4}..., inputs=/input_239)`\n"
     ]
    },
    {
     "name": "stdout",
     "output_type": "stream",
     "text": [
      "Strip number: 49\n"
     ]
    },
    {
     "name": "stderr",
     "output_type": "stream",
     "text": [
      "C:\\Users\\Nicholus\\AppData\\Local\\conda\\conda\\envs\\env_name27\\lib\\site-packages\\ipykernel_launcher.py:25: UserWarning: Update your `Model` call to the Keras 2 API: `Model(outputs=Reshape{4}..., inputs=/input_240)`\n"
     ]
    },
    {
     "name": "stdout",
     "output_type": "stream",
     "text": [
      "Strip number: 50\n"
     ]
    },
    {
     "name": "stderr",
     "output_type": "stream",
     "text": [
      "C:\\Users\\Nicholus\\AppData\\Local\\conda\\conda\\envs\\env_name27\\lib\\site-packages\\ipykernel_launcher.py:25: UserWarning: Update your `Model` call to the Keras 2 API: `Model(outputs=Reshape{4}..., inputs=/input_241)`\n"
     ]
    },
    {
     "name": "stdout",
     "output_type": "stream",
     "text": [
      "Strip number: 51\n"
     ]
    },
    {
     "name": "stderr",
     "output_type": "stream",
     "text": [
      "C:\\Users\\Nicholus\\AppData\\Local\\conda\\conda\\envs\\env_name27\\lib\\site-packages\\ipykernel_launcher.py:25: UserWarning: Update your `Model` call to the Keras 2 API: `Model(outputs=Reshape{4}..., inputs=/input_242)`\n"
     ]
    },
    {
     "name": "stdout",
     "output_type": "stream",
     "text": [
      "Strip number: 52\n"
     ]
    },
    {
     "name": "stderr",
     "output_type": "stream",
     "text": [
      "C:\\Users\\Nicholus\\AppData\\Local\\conda\\conda\\envs\\env_name27\\lib\\site-packages\\ipykernel_launcher.py:25: UserWarning: Update your `Model` call to the Keras 2 API: `Model(outputs=Reshape{4}..., inputs=/input_243)`\n"
     ]
    },
    {
     "name": "stdout",
     "output_type": "stream",
     "text": [
      "Strip number: 53\n"
     ]
    },
    {
     "name": "stderr",
     "output_type": "stream",
     "text": [
      "C:\\Users\\Nicholus\\AppData\\Local\\conda\\conda\\envs\\env_name27\\lib\\site-packages\\ipykernel_launcher.py:25: UserWarning: Update your `Model` call to the Keras 2 API: `Model(outputs=Reshape{4}..., inputs=/input_244)`\n"
     ]
    },
    {
     "name": "stdout",
     "output_type": "stream",
     "text": [
      "Strip number: 54\n"
     ]
    },
    {
     "name": "stderr",
     "output_type": "stream",
     "text": [
      "C:\\Users\\Nicholus\\AppData\\Local\\conda\\conda\\envs\\env_name27\\lib\\site-packages\\ipykernel_launcher.py:25: UserWarning: Update your `Model` call to the Keras 2 API: `Model(outputs=Reshape{4}..., inputs=/input_245)`\n"
     ]
    },
    {
     "name": "stdout",
     "output_type": "stream",
     "text": [
      "Strip number: 55\n"
     ]
    },
    {
     "name": "stderr",
     "output_type": "stream",
     "text": [
      "C:\\Users\\Nicholus\\AppData\\Local\\conda\\conda\\envs\\env_name27\\lib\\site-packages\\ipykernel_launcher.py:25: UserWarning: Update your `Model` call to the Keras 2 API: `Model(outputs=Reshape{4}..., inputs=/input_246)`\n"
     ]
    },
    {
     "name": "stdout",
     "output_type": "stream",
     "text": [
      "Strip number: 56\n"
     ]
    },
    {
     "name": "stderr",
     "output_type": "stream",
     "text": [
      "C:\\Users\\Nicholus\\AppData\\Local\\conda\\conda\\envs\\env_name27\\lib\\site-packages\\ipykernel_launcher.py:25: UserWarning: Update your `Model` call to the Keras 2 API: `Model(outputs=Reshape{4}..., inputs=/input_247)`\n"
     ]
    },
    {
     "name": "stdout",
     "output_type": "stream",
     "text": [
      "Strip number: 57\n"
     ]
    },
    {
     "name": "stderr",
     "output_type": "stream",
     "text": [
      "C:\\Users\\Nicholus\\AppData\\Local\\conda\\conda\\envs\\env_name27\\lib\\site-packages\\ipykernel_launcher.py:25: UserWarning: Update your `Model` call to the Keras 2 API: `Model(outputs=Reshape{4}..., inputs=/input_248)`\n"
     ]
    },
    {
     "name": "stdout",
     "output_type": "stream",
     "text": [
      "Strip number: 58\n"
     ]
    },
    {
     "name": "stderr",
     "output_type": "stream",
     "text": [
      "C:\\Users\\Nicholus\\AppData\\Local\\conda\\conda\\envs\\env_name27\\lib\\site-packages\\ipykernel_launcher.py:25: UserWarning: Update your `Model` call to the Keras 2 API: `Model(outputs=Reshape{4}..., inputs=/input_249)`\n"
     ]
    },
    {
     "name": "stdout",
     "output_type": "stream",
     "text": [
      "Strip number: 59\n"
     ]
    },
    {
     "name": "stderr",
     "output_type": "stream",
     "text": [
      "C:\\Users\\Nicholus\\AppData\\Local\\conda\\conda\\envs\\env_name27\\lib\\site-packages\\ipykernel_launcher.py:25: UserWarning: Update your `Model` call to the Keras 2 API: `Model(outputs=Reshape{4}..., inputs=/input_250)`\n"
     ]
    },
    {
     "name": "stdout",
     "output_type": "stream",
     "text": [
      "Strip number: 60\n"
     ]
    },
    {
     "name": "stderr",
     "output_type": "stream",
     "text": [
      "C:\\Users\\Nicholus\\AppData\\Local\\conda\\conda\\envs\\env_name27\\lib\\site-packages\\ipykernel_launcher.py:25: UserWarning: Update your `Model` call to the Keras 2 API: `Model(outputs=Reshape{4}..., inputs=/input_251)`\n"
     ]
    },
    {
     "name": "stdout",
     "output_type": "stream",
     "text": [
      "Strip number: 61\n"
     ]
    },
    {
     "name": "stderr",
     "output_type": "stream",
     "text": [
      "C:\\Users\\Nicholus\\AppData\\Local\\conda\\conda\\envs\\env_name27\\lib\\site-packages\\ipykernel_launcher.py:25: UserWarning: Update your `Model` call to the Keras 2 API: `Model(outputs=Reshape{4}..., inputs=/input_252)`\n"
     ]
    },
    {
     "name": "stdout",
     "output_type": "stream",
     "text": [
      "Strip number: 62\n"
     ]
    },
    {
     "name": "stderr",
     "output_type": "stream",
     "text": [
      "C:\\Users\\Nicholus\\AppData\\Local\\conda\\conda\\envs\\env_name27\\lib\\site-packages\\ipykernel_launcher.py:25: UserWarning: Update your `Model` call to the Keras 2 API: `Model(outputs=Reshape{4}..., inputs=/input_253)`\n"
     ]
    },
    {
     "name": "stdout",
     "output_type": "stream",
     "text": [
      "Strip number: 63\n"
     ]
    },
    {
     "name": "stderr",
     "output_type": "stream",
     "text": [
      "C:\\Users\\Nicholus\\AppData\\Local\\conda\\conda\\envs\\env_name27\\lib\\site-packages\\ipykernel_launcher.py:25: UserWarning: Update your `Model` call to the Keras 2 API: `Model(outputs=Reshape{4}..., inputs=/input_254)`\n"
     ]
    },
    {
     "name": "stdout",
     "output_type": "stream",
     "text": [
      "Strip number: 64\n"
     ]
    },
    {
     "name": "stderr",
     "output_type": "stream",
     "text": [
      "C:\\Users\\Nicholus\\AppData\\Local\\conda\\conda\\envs\\env_name27\\lib\\site-packages\\ipykernel_launcher.py:25: UserWarning: Update your `Model` call to the Keras 2 API: `Model(outputs=Reshape{4}..., inputs=/input_255)`\n"
     ]
    },
    {
     "name": "stdout",
     "output_type": "stream",
     "text": [
      "Strip number: 65\n"
     ]
    },
    {
     "name": "stderr",
     "output_type": "stream",
     "text": [
      "C:\\Users\\Nicholus\\AppData\\Local\\conda\\conda\\envs\\env_name27\\lib\\site-packages\\ipykernel_launcher.py:25: UserWarning: Update your `Model` call to the Keras 2 API: `Model(outputs=Reshape{4}..., inputs=/input_256)`\n"
     ]
    },
    {
     "name": "stdout",
     "output_type": "stream",
     "text": [
      "Strip number: 66\n"
     ]
    },
    {
     "name": "stderr",
     "output_type": "stream",
     "text": [
      "C:\\Users\\Nicholus\\AppData\\Local\\conda\\conda\\envs\\env_name27\\lib\\site-packages\\ipykernel_launcher.py:25: UserWarning: Update your `Model` call to the Keras 2 API: `Model(outputs=Reshape{4}..., inputs=/input_257)`\n"
     ]
    },
    {
     "name": "stdout",
     "output_type": "stream",
     "text": [
      "Strip number: 67\n"
     ]
    },
    {
     "name": "stderr",
     "output_type": "stream",
     "text": [
      "C:\\Users\\Nicholus\\AppData\\Local\\conda\\conda\\envs\\env_name27\\lib\\site-packages\\ipykernel_launcher.py:25: UserWarning: Update your `Model` call to the Keras 2 API: `Model(outputs=Reshape{4}..., inputs=/input_258)`\n"
     ]
    },
    {
     "name": "stdout",
     "output_type": "stream",
     "text": [
      "Strip number: 68\n"
     ]
    },
    {
     "name": "stderr",
     "output_type": "stream",
     "text": [
      "C:\\Users\\Nicholus\\AppData\\Local\\conda\\conda\\envs\\env_name27\\lib\\site-packages\\ipykernel_launcher.py:25: UserWarning: Update your `Model` call to the Keras 2 API: `Model(outputs=Reshape{4}..., inputs=/input_259)`\n"
     ]
    },
    {
     "name": "stdout",
     "output_type": "stream",
     "text": [
      "Strip number: 69\n"
     ]
    },
    {
     "name": "stderr",
     "output_type": "stream",
     "text": [
      "C:\\Users\\Nicholus\\AppData\\Local\\conda\\conda\\envs\\env_name27\\lib\\site-packages\\ipykernel_launcher.py:25: UserWarning: Update your `Model` call to the Keras 2 API: `Model(outputs=Reshape{4}..., inputs=/input_260)`\n"
     ]
    },
    {
     "name": "stdout",
     "output_type": "stream",
     "text": [
      "Strip number: 70\n"
     ]
    },
    {
     "name": "stderr",
     "output_type": "stream",
     "text": [
      "C:\\Users\\Nicholus\\AppData\\Local\\conda\\conda\\envs\\env_name27\\lib\\site-packages\\ipykernel_launcher.py:25: UserWarning: Update your `Model` call to the Keras 2 API: `Model(outputs=Reshape{4}..., inputs=/input_261)`\n"
     ]
    },
    {
     "name": "stdout",
     "output_type": "stream",
     "text": [
      "Strip number: 71\n"
     ]
    },
    {
     "name": "stderr",
     "output_type": "stream",
     "text": [
      "C:\\Users\\Nicholus\\AppData\\Local\\conda\\conda\\envs\\env_name27\\lib\\site-packages\\ipykernel_launcher.py:25: UserWarning: Update your `Model` call to the Keras 2 API: `Model(outputs=Reshape{4}..., inputs=/input_262)`\n"
     ]
    },
    {
     "name": "stdout",
     "output_type": "stream",
     "text": [
      "Strip number: 72\n"
     ]
    },
    {
     "name": "stderr",
     "output_type": "stream",
     "text": [
      "C:\\Users\\Nicholus\\AppData\\Local\\conda\\conda\\envs\\env_name27\\lib\\site-packages\\ipykernel_launcher.py:25: UserWarning: Update your `Model` call to the Keras 2 API: `Model(outputs=Reshape{4}..., inputs=/input_263)`\n"
     ]
    },
    {
     "name": "stdout",
     "output_type": "stream",
     "text": [
      "Strip number: 73\n"
     ]
    },
    {
     "name": "stderr",
     "output_type": "stream",
     "text": [
      "C:\\Users\\Nicholus\\AppData\\Local\\conda\\conda\\envs\\env_name27\\lib\\site-packages\\ipykernel_launcher.py:25: UserWarning: Update your `Model` call to the Keras 2 API: `Model(outputs=Reshape{4}..., inputs=/input_264)`\n"
     ]
    },
    {
     "name": "stdout",
     "output_type": "stream",
     "text": [
      "Strip number: 74\n"
     ]
    },
    {
     "name": "stderr",
     "output_type": "stream",
     "text": [
      "C:\\Users\\Nicholus\\AppData\\Local\\conda\\conda\\envs\\env_name27\\lib\\site-packages\\ipykernel_launcher.py:25: UserWarning: Update your `Model` call to the Keras 2 API: `Model(outputs=Reshape{4}..., inputs=/input_265)`\n"
     ]
    },
    {
     "name": "stdout",
     "output_type": "stream",
     "text": [
      "Strip number: 75\n"
     ]
    },
    {
     "name": "stderr",
     "output_type": "stream",
     "text": [
      "C:\\Users\\Nicholus\\AppData\\Local\\conda\\conda\\envs\\env_name27\\lib\\site-packages\\ipykernel_launcher.py:25: UserWarning: Update your `Model` call to the Keras 2 API: `Model(outputs=Reshape{4}..., inputs=/input_266)`\n"
     ]
    },
    {
     "name": "stdout",
     "output_type": "stream",
     "text": [
      "Strip number: 76\n"
     ]
    },
    {
     "name": "stderr",
     "output_type": "stream",
     "text": [
      "C:\\Users\\Nicholus\\AppData\\Local\\conda\\conda\\envs\\env_name27\\lib\\site-packages\\ipykernel_launcher.py:25: UserWarning: Update your `Model` call to the Keras 2 API: `Model(outputs=Reshape{4}..., inputs=/input_267)`\n"
     ]
    },
    {
     "name": "stdout",
     "output_type": "stream",
     "text": [
      "Strip number: 77\n"
     ]
    },
    {
     "name": "stderr",
     "output_type": "stream",
     "text": [
      "C:\\Users\\Nicholus\\AppData\\Local\\conda\\conda\\envs\\env_name27\\lib\\site-packages\\ipykernel_launcher.py:25: UserWarning: Update your `Model` call to the Keras 2 API: `Model(outputs=Reshape{4}..., inputs=/input_268)`\n"
     ]
    },
    {
     "name": "stdout",
     "output_type": "stream",
     "text": [
      "Strip number: 78\n"
     ]
    },
    {
     "name": "stderr",
     "output_type": "stream",
     "text": [
      "C:\\Users\\Nicholus\\AppData\\Local\\conda\\conda\\envs\\env_name27\\lib\\site-packages\\ipykernel_launcher.py:25: UserWarning: Update your `Model` call to the Keras 2 API: `Model(outputs=Reshape{4}..., inputs=/input_269)`\n"
     ]
    },
    {
     "name": "stdout",
     "output_type": "stream",
     "text": [
      "Strip number: 79\n"
     ]
    },
    {
     "name": "stderr",
     "output_type": "stream",
     "text": [
      "C:\\Users\\Nicholus\\AppData\\Local\\conda\\conda\\envs\\env_name27\\lib\\site-packages\\ipykernel_launcher.py:25: UserWarning: Update your `Model` call to the Keras 2 API: `Model(outputs=Reshape{4}..., inputs=/input_270)`\n"
     ]
    },
    {
     "name": "stdout",
     "output_type": "stream",
     "text": [
      "Strip number: 80\n"
     ]
    },
    {
     "name": "stderr",
     "output_type": "stream",
     "text": [
      "C:\\Users\\Nicholus\\AppData\\Local\\conda\\conda\\envs\\env_name27\\lib\\site-packages\\ipykernel_launcher.py:25: UserWarning: Update your `Model` call to the Keras 2 API: `Model(outputs=Reshape{4}..., inputs=/input_271)`\n"
     ]
    },
    {
     "name": "stdout",
     "output_type": "stream",
     "text": [
      "Strip number: 81\n"
     ]
    },
    {
     "name": "stderr",
     "output_type": "stream",
     "text": [
      "C:\\Users\\Nicholus\\AppData\\Local\\conda\\conda\\envs\\env_name27\\lib\\site-packages\\ipykernel_launcher.py:25: UserWarning: Update your `Model` call to the Keras 2 API: `Model(outputs=Reshape{4}..., inputs=/input_272)`\n"
     ]
    },
    {
     "name": "stdout",
     "output_type": "stream",
     "text": [
      "Strip number: 82\n"
     ]
    },
    {
     "name": "stderr",
     "output_type": "stream",
     "text": [
      "C:\\Users\\Nicholus\\AppData\\Local\\conda\\conda\\envs\\env_name27\\lib\\site-packages\\ipykernel_launcher.py:25: UserWarning: Update your `Model` call to the Keras 2 API: `Model(outputs=Reshape{4}..., inputs=/input_273)`\n"
     ]
    },
    {
     "name": "stdout",
     "output_type": "stream",
     "text": [
      "Strip number: 83\n"
     ]
    },
    {
     "name": "stderr",
     "output_type": "stream",
     "text": [
      "C:\\Users\\Nicholus\\AppData\\Local\\conda\\conda\\envs\\env_name27\\lib\\site-packages\\ipykernel_launcher.py:25: UserWarning: Update your `Model` call to the Keras 2 API: `Model(outputs=Reshape{4}..., inputs=/input_274)`\n"
     ]
    },
    {
     "name": "stdout",
     "output_type": "stream",
     "text": [
      "Strip number: 84\n"
     ]
    },
    {
     "name": "stderr",
     "output_type": "stream",
     "text": [
      "C:\\Users\\Nicholus\\AppData\\Local\\conda\\conda\\envs\\env_name27\\lib\\site-packages\\ipykernel_launcher.py:25: UserWarning: Update your `Model` call to the Keras 2 API: `Model(outputs=Reshape{4}..., inputs=/input_275)`\n"
     ]
    },
    {
     "name": "stdout",
     "output_type": "stream",
     "text": [
      "Strip number: 85\n"
     ]
    },
    {
     "name": "stderr",
     "output_type": "stream",
     "text": [
      "C:\\Users\\Nicholus\\AppData\\Local\\conda\\conda\\envs\\env_name27\\lib\\site-packages\\ipykernel_launcher.py:25: UserWarning: Update your `Model` call to the Keras 2 API: `Model(outputs=Reshape{4}..., inputs=/input_276)`\n"
     ]
    },
    {
     "name": "stdout",
     "output_type": "stream",
     "text": [
      "Strip number: 86\n"
     ]
    },
    {
     "name": "stderr",
     "output_type": "stream",
     "text": [
      "C:\\Users\\Nicholus\\AppData\\Local\\conda\\conda\\envs\\env_name27\\lib\\site-packages\\ipykernel_launcher.py:25: UserWarning: Update your `Model` call to the Keras 2 API: `Model(outputs=Reshape{4}..., inputs=/input_277)`\n"
     ]
    },
    {
     "name": "stdout",
     "output_type": "stream",
     "text": [
      "Strip number: 87\n"
     ]
    },
    {
     "name": "stderr",
     "output_type": "stream",
     "text": [
      "C:\\Users\\Nicholus\\AppData\\Local\\conda\\conda\\envs\\env_name27\\lib\\site-packages\\ipykernel_launcher.py:25: UserWarning: Update your `Model` call to the Keras 2 API: `Model(outputs=Reshape{4}..., inputs=/input_278)`\n"
     ]
    },
    {
     "name": "stdout",
     "output_type": "stream",
     "text": [
      "Strip number: 88\n"
     ]
    },
    {
     "name": "stderr",
     "output_type": "stream",
     "text": [
      "C:\\Users\\Nicholus\\AppData\\Local\\conda\\conda\\envs\\env_name27\\lib\\site-packages\\ipykernel_launcher.py:25: UserWarning: Update your `Model` call to the Keras 2 API: `Model(outputs=Reshape{4}..., inputs=/input_279)`\n"
     ]
    },
    {
     "name": "stdout",
     "output_type": "stream",
     "text": [
      "Strip number: 89\n"
     ]
    },
    {
     "name": "stderr",
     "output_type": "stream",
     "text": [
      "C:\\Users\\Nicholus\\AppData\\Local\\conda\\conda\\envs\\env_name27\\lib\\site-packages\\ipykernel_launcher.py:25: UserWarning: Update your `Model` call to the Keras 2 API: `Model(outputs=Reshape{4}..., inputs=/input_280)`\n"
     ]
    },
    {
     "name": "stdout",
     "output_type": "stream",
     "text": [
      "Strip number: 90\n"
     ]
    },
    {
     "name": "stderr",
     "output_type": "stream",
     "text": [
      "C:\\Users\\Nicholus\\AppData\\Local\\conda\\conda\\envs\\env_name27\\lib\\site-packages\\ipykernel_launcher.py:25: UserWarning: Update your `Model` call to the Keras 2 API: `Model(outputs=Reshape{4}..., inputs=/input_281)`\n"
     ]
    },
    {
     "name": "stdout",
     "output_type": "stream",
     "text": [
      "Strip number: 91\n"
     ]
    },
    {
     "name": "stderr",
     "output_type": "stream",
     "text": [
      "C:\\Users\\Nicholus\\AppData\\Local\\conda\\conda\\envs\\env_name27\\lib\\site-packages\\ipykernel_launcher.py:25: UserWarning: Update your `Model` call to the Keras 2 API: `Model(outputs=Reshape{4}..., inputs=/input_282)`\n"
     ]
    },
    {
     "name": "stdout",
     "output_type": "stream",
     "text": [
      "Strip number: 92\n"
     ]
    },
    {
     "name": "stderr",
     "output_type": "stream",
     "text": [
      "C:\\Users\\Nicholus\\AppData\\Local\\conda\\conda\\envs\\env_name27\\lib\\site-packages\\ipykernel_launcher.py:25: UserWarning: Update your `Model` call to the Keras 2 API: `Model(outputs=Reshape{4}..., inputs=/input_283)`\n"
     ]
    },
    {
     "name": "stdout",
     "output_type": "stream",
     "text": [
      "Strip number: 93\n"
     ]
    },
    {
     "name": "stderr",
     "output_type": "stream",
     "text": [
      "C:\\Users\\Nicholus\\AppData\\Local\\conda\\conda\\envs\\env_name27\\lib\\site-packages\\ipykernel_launcher.py:25: UserWarning: Update your `Model` call to the Keras 2 API: `Model(outputs=Reshape{4}..., inputs=/input_284)`\n"
     ]
    },
    {
     "name": "stdout",
     "output_type": "stream",
     "text": [
      "Strip number: 94\n"
     ]
    },
    {
     "name": "stderr",
     "output_type": "stream",
     "text": [
      "C:\\Users\\Nicholus\\AppData\\Local\\conda\\conda\\envs\\env_name27\\lib\\site-packages\\ipykernel_launcher.py:25: UserWarning: Update your `Model` call to the Keras 2 API: `Model(outputs=Reshape{4}..., inputs=/input_285)`\n"
     ]
    },
    {
     "name": "stdout",
     "output_type": "stream",
     "text": [
      "Strip number: 95\n"
     ]
    },
    {
     "name": "stderr",
     "output_type": "stream",
     "text": [
      "C:\\Users\\Nicholus\\AppData\\Local\\conda\\conda\\envs\\env_name27\\lib\\site-packages\\ipykernel_launcher.py:25: UserWarning: Update your `Model` call to the Keras 2 API: `Model(outputs=Reshape{4}..., inputs=/input_286)`\n"
     ]
    },
    {
     "name": "stdout",
     "output_type": "stream",
     "text": [
      "Strip number: 96\n"
     ]
    },
    {
     "name": "stderr",
     "output_type": "stream",
     "text": [
      "C:\\Users\\Nicholus\\AppData\\Local\\conda\\conda\\envs\\env_name27\\lib\\site-packages\\ipykernel_launcher.py:25: UserWarning: Update your `Model` call to the Keras 2 API: `Model(outputs=Reshape{4}..., inputs=/input_287)`\n"
     ]
    },
    {
     "name": "stdout",
     "output_type": "stream",
     "text": [
      "Strip number: 97\n"
     ]
    },
    {
     "name": "stderr",
     "output_type": "stream",
     "text": [
      "C:\\Users\\Nicholus\\AppData\\Local\\conda\\conda\\envs\\env_name27\\lib\\site-packages\\ipykernel_launcher.py:25: UserWarning: Update your `Model` call to the Keras 2 API: `Model(outputs=Reshape{4}..., inputs=/input_288)`\n"
     ]
    },
    {
     "name": "stdout",
     "output_type": "stream",
     "text": [
      "Strip number: 98\n"
     ]
    },
    {
     "name": "stderr",
     "output_type": "stream",
     "text": [
      "C:\\Users\\Nicholus\\AppData\\Local\\conda\\conda\\envs\\env_name27\\lib\\site-packages\\ipykernel_launcher.py:25: UserWarning: Update your `Model` call to the Keras 2 API: `Model(outputs=Reshape{4}..., inputs=/input_289)`\n"
     ]
    },
    {
     "name": "stdout",
     "output_type": "stream",
     "text": [
      "Strip number: 99\n"
     ]
    },
    {
     "name": "stderr",
     "output_type": "stream",
     "text": [
      "C:\\Users\\Nicholus\\AppData\\Local\\conda\\conda\\envs\\env_name27\\lib\\site-packages\\ipykernel_launcher.py:25: UserWarning: Update your `Model` call to the Keras 2 API: `Model(outputs=Reshape{4}..., inputs=/input_290)`\n"
     ]
    },
    {
     "name": "stdout",
     "output_type": "stream",
     "text": [
      "Strip number: 100\n"
     ]
    },
    {
     "name": "stderr",
     "output_type": "stream",
     "text": [
      "C:\\Users\\Nicholus\\AppData\\Local\\conda\\conda\\envs\\env_name27\\lib\\site-packages\\ipykernel_launcher.py:25: UserWarning: Update your `Model` call to the Keras 2 API: `Model(outputs=Reshape{4}..., inputs=/input_291)`\n"
     ]
    },
    {
     "name": "stdout",
     "output_type": "stream",
     "text": [
      "Strip number: 101\n"
     ]
    },
    {
     "name": "stderr",
     "output_type": "stream",
     "text": [
      "C:\\Users\\Nicholus\\AppData\\Local\\conda\\conda\\envs\\env_name27\\lib\\site-packages\\ipykernel_launcher.py:25: UserWarning: Update your `Model` call to the Keras 2 API: `Model(outputs=Reshape{4}..., inputs=/input_292)`\n"
     ]
    },
    {
     "name": "stdout",
     "output_type": "stream",
     "text": [
      "Strip number: 102\n"
     ]
    },
    {
     "name": "stderr",
     "output_type": "stream",
     "text": [
      "C:\\Users\\Nicholus\\AppData\\Local\\conda\\conda\\envs\\env_name27\\lib\\site-packages\\ipykernel_launcher.py:25: UserWarning: Update your `Model` call to the Keras 2 API: `Model(outputs=Reshape{4}..., inputs=/input_293)`\n"
     ]
    },
    {
     "name": "stdout",
     "output_type": "stream",
     "text": [
      "Strip number: 103\n"
     ]
    },
    {
     "name": "stderr",
     "output_type": "stream",
     "text": [
      "C:\\Users\\Nicholus\\AppData\\Local\\conda\\conda\\envs\\env_name27\\lib\\site-packages\\ipykernel_launcher.py:25: UserWarning: Update your `Model` call to the Keras 2 API: `Model(outputs=Reshape{4}..., inputs=/input_294)`\n"
     ]
    },
    {
     "name": "stdout",
     "output_type": "stream",
     "text": [
      "Strip number: 104\n"
     ]
    },
    {
     "name": "stderr",
     "output_type": "stream",
     "text": [
      "C:\\Users\\Nicholus\\AppData\\Local\\conda\\conda\\envs\\env_name27\\lib\\site-packages\\ipykernel_launcher.py:25: UserWarning: Update your `Model` call to the Keras 2 API: `Model(outputs=Reshape{4}..., inputs=/input_295)`\n"
     ]
    },
    {
     "name": "stdout",
     "output_type": "stream",
     "text": [
      "Strip number: 105\n"
     ]
    },
    {
     "name": "stderr",
     "output_type": "stream",
     "text": [
      "C:\\Users\\Nicholus\\AppData\\Local\\conda\\conda\\envs\\env_name27\\lib\\site-packages\\ipykernel_launcher.py:25: UserWarning: Update your `Model` call to the Keras 2 API: `Model(outputs=Reshape{4}..., inputs=/input_296)`\n"
     ]
    },
    {
     "name": "stdout",
     "output_type": "stream",
     "text": [
      "Strip number: 106\n"
     ]
    },
    {
     "name": "stderr",
     "output_type": "stream",
     "text": [
      "C:\\Users\\Nicholus\\AppData\\Local\\conda\\conda\\envs\\env_name27\\lib\\site-packages\\ipykernel_launcher.py:25: UserWarning: Update your `Model` call to the Keras 2 API: `Model(outputs=Reshape{4}..., inputs=/input_297)`\n"
     ]
    },
    {
     "name": "stdout",
     "output_type": "stream",
     "text": [
      "Strip number: 107\n"
     ]
    },
    {
     "name": "stderr",
     "output_type": "stream",
     "text": [
      "C:\\Users\\Nicholus\\AppData\\Local\\conda\\conda\\envs\\env_name27\\lib\\site-packages\\ipykernel_launcher.py:25: UserWarning: Update your `Model` call to the Keras 2 API: `Model(outputs=Reshape{4}..., inputs=/input_298)`\n"
     ]
    },
    {
     "name": "stdout",
     "output_type": "stream",
     "text": [
      "Strip number: 108\n"
     ]
    },
    {
     "name": "stderr",
     "output_type": "stream",
     "text": [
      "C:\\Users\\Nicholus\\AppData\\Local\\conda\\conda\\envs\\env_name27\\lib\\site-packages\\ipykernel_launcher.py:25: UserWarning: Update your `Model` call to the Keras 2 API: `Model(outputs=Reshape{4}..., inputs=/input_299)`\n"
     ]
    },
    {
     "name": "stdout",
     "output_type": "stream",
     "text": [
      "Strip number: 109\n"
     ]
    },
    {
     "name": "stderr",
     "output_type": "stream",
     "text": [
      "C:\\Users\\Nicholus\\AppData\\Local\\conda\\conda\\envs\\env_name27\\lib\\site-packages\\ipykernel_launcher.py:25: UserWarning: Update your `Model` call to the Keras 2 API: `Model(outputs=Reshape{4}..., inputs=/input_300)`\n"
     ]
    },
    {
     "name": "stdout",
     "output_type": "stream",
     "text": [
      "Strip number: 110\n"
     ]
    },
    {
     "name": "stderr",
     "output_type": "stream",
     "text": [
      "C:\\Users\\Nicholus\\AppData\\Local\\conda\\conda\\envs\\env_name27\\lib\\site-packages\\ipykernel_launcher.py:25: UserWarning: Update your `Model` call to the Keras 2 API: `Model(outputs=Reshape{4}..., inputs=/input_301)`\n"
     ]
    },
    {
     "name": "stdout",
     "output_type": "stream",
     "text": [
      "Strip number: 111\n"
     ]
    },
    {
     "name": "stderr",
     "output_type": "stream",
     "text": [
      "C:\\Users\\Nicholus\\AppData\\Local\\conda\\conda\\envs\\env_name27\\lib\\site-packages\\ipykernel_launcher.py:25: UserWarning: Update your `Model` call to the Keras 2 API: `Model(outputs=Reshape{4}..., inputs=/input_302)`\n"
     ]
    },
    {
     "name": "stdout",
     "output_type": "stream",
     "text": [
      "Strip number: 112\n"
     ]
    },
    {
     "name": "stderr",
     "output_type": "stream",
     "text": [
      "C:\\Users\\Nicholus\\AppData\\Local\\conda\\conda\\envs\\env_name27\\lib\\site-packages\\ipykernel_launcher.py:25: UserWarning: Update your `Model` call to the Keras 2 API: `Model(outputs=Reshape{4}..., inputs=/input_303)`\n"
     ]
    },
    {
     "name": "stdout",
     "output_type": "stream",
     "text": [
      "Strip number: 113\n"
     ]
    },
    {
     "name": "stderr",
     "output_type": "stream",
     "text": [
      "C:\\Users\\Nicholus\\AppData\\Local\\conda\\conda\\envs\\env_name27\\lib\\site-packages\\ipykernel_launcher.py:25: UserWarning: Update your `Model` call to the Keras 2 API: `Model(outputs=Reshape{4}..., inputs=/input_304)`\n"
     ]
    },
    {
     "name": "stdout",
     "output_type": "stream",
     "text": [
      "Strip number: 114\n"
     ]
    },
    {
     "name": "stderr",
     "output_type": "stream",
     "text": [
      "C:\\Users\\Nicholus\\AppData\\Local\\conda\\conda\\envs\\env_name27\\lib\\site-packages\\ipykernel_launcher.py:25: UserWarning: Update your `Model` call to the Keras 2 API: `Model(outputs=Reshape{4}..., inputs=/input_305)`\n"
     ]
    },
    {
     "name": "stdout",
     "output_type": "stream",
     "text": [
      "Strip number: 115\n"
     ]
    },
    {
     "name": "stderr",
     "output_type": "stream",
     "text": [
      "C:\\Users\\Nicholus\\AppData\\Local\\conda\\conda\\envs\\env_name27\\lib\\site-packages\\ipykernel_launcher.py:25: UserWarning: Update your `Model` call to the Keras 2 API: `Model(outputs=Reshape{4}..., inputs=/input_306)`\n"
     ]
    },
    {
     "name": "stdout",
     "output_type": "stream",
     "text": [
      "Strip number: 116\n"
     ]
    },
    {
     "name": "stderr",
     "output_type": "stream",
     "text": [
      "C:\\Users\\Nicholus\\AppData\\Local\\conda\\conda\\envs\\env_name27\\lib\\site-packages\\ipykernel_launcher.py:25: UserWarning: Update your `Model` call to the Keras 2 API: `Model(outputs=Reshape{4}..., inputs=/input_307)`\n"
     ]
    },
    {
     "name": "stdout",
     "output_type": "stream",
     "text": [
      "Strip number: 117\n"
     ]
    },
    {
     "name": "stderr",
     "output_type": "stream",
     "text": [
      "C:\\Users\\Nicholus\\AppData\\Local\\conda\\conda\\envs\\env_name27\\lib\\site-packages\\ipykernel_launcher.py:25: UserWarning: Update your `Model` call to the Keras 2 API: `Model(outputs=Reshape{4}..., inputs=/input_308)`\n"
     ]
    },
    {
     "name": "stdout",
     "output_type": "stream",
     "text": [
      "Strip number: 118\n"
     ]
    },
    {
     "name": "stderr",
     "output_type": "stream",
     "text": [
      "C:\\Users\\Nicholus\\AppData\\Local\\conda\\conda\\envs\\env_name27\\lib\\site-packages\\ipykernel_launcher.py:25: UserWarning: Update your `Model` call to the Keras 2 API: `Model(outputs=Reshape{4}..., inputs=/input_309)`\n"
     ]
    },
    {
     "name": "stdout",
     "output_type": "stream",
     "text": [
      "Strip number: 119\n"
     ]
    },
    {
     "name": "stderr",
     "output_type": "stream",
     "text": [
      "C:\\Users\\Nicholus\\AppData\\Local\\conda\\conda\\envs\\env_name27\\lib\\site-packages\\ipykernel_launcher.py:25: UserWarning: Update your `Model` call to the Keras 2 API: `Model(outputs=Reshape{4}..., inputs=/input_310)`\n"
     ]
    },
    {
     "name": "stdout",
     "output_type": "stream",
     "text": [
      "Strip number: 120\n"
     ]
    },
    {
     "name": "stderr",
     "output_type": "stream",
     "text": [
      "C:\\Users\\Nicholus\\AppData\\Local\\conda\\conda\\envs\\env_name27\\lib\\site-packages\\ipykernel_launcher.py:25: UserWarning: Update your `Model` call to the Keras 2 API: `Model(outputs=Reshape{4}..., inputs=/input_311)`\n"
     ]
    },
    {
     "name": "stdout",
     "output_type": "stream",
     "text": [
      "Strip number: 121\n"
     ]
    },
    {
     "name": "stderr",
     "output_type": "stream",
     "text": [
      "C:\\Users\\Nicholus\\AppData\\Local\\conda\\conda\\envs\\env_name27\\lib\\site-packages\\ipykernel_launcher.py:25: UserWarning: Update your `Model` call to the Keras 2 API: `Model(outputs=Reshape{4}..., inputs=/input_312)`\n"
     ]
    },
    {
     "name": "stdout",
     "output_type": "stream",
     "text": [
      "Strip number: 122\n"
     ]
    },
    {
     "name": "stderr",
     "output_type": "stream",
     "text": [
      "C:\\Users\\Nicholus\\AppData\\Local\\conda\\conda\\envs\\env_name27\\lib\\site-packages\\ipykernel_launcher.py:25: UserWarning: Update your `Model` call to the Keras 2 API: `Model(outputs=Reshape{4}..., inputs=/input_313)`\n"
     ]
    },
    {
     "name": "stdout",
     "output_type": "stream",
     "text": [
      "Strip number: 123\n"
     ]
    },
    {
     "name": "stderr",
     "output_type": "stream",
     "text": [
      "C:\\Users\\Nicholus\\AppData\\Local\\conda\\conda\\envs\\env_name27\\lib\\site-packages\\ipykernel_launcher.py:25: UserWarning: Update your `Model` call to the Keras 2 API: `Model(outputs=Reshape{4}..., inputs=/input_314)`\n"
     ]
    },
    {
     "name": "stdout",
     "output_type": "stream",
     "text": [
      "Strip number: 124\n"
     ]
    },
    {
     "name": "stderr",
     "output_type": "stream",
     "text": [
      "C:\\Users\\Nicholus\\AppData\\Local\\conda\\conda\\envs\\env_name27\\lib\\site-packages\\ipykernel_launcher.py:25: UserWarning: Update your `Model` call to the Keras 2 API: `Model(outputs=Reshape{4}..., inputs=/input_315)`\n"
     ]
    },
    {
     "name": "stdout",
     "output_type": "stream",
     "text": [
      "Strip number: 125\n"
     ]
    },
    {
     "name": "stderr",
     "output_type": "stream",
     "text": [
      "C:\\Users\\Nicholus\\AppData\\Local\\conda\\conda\\envs\\env_name27\\lib\\site-packages\\ipykernel_launcher.py:25: UserWarning: Update your `Model` call to the Keras 2 API: `Model(outputs=Reshape{4}..., inputs=/input_316)`\n"
     ]
    },
    {
     "name": "stdout",
     "output_type": "stream",
     "text": [
      "Strip number: 126\n"
     ]
    },
    {
     "name": "stderr",
     "output_type": "stream",
     "text": [
      "C:\\Users\\Nicholus\\AppData\\Local\\conda\\conda\\envs\\env_name27\\lib\\site-packages\\ipykernel_launcher.py:25: UserWarning: Update your `Model` call to the Keras 2 API: `Model(outputs=Reshape{4}..., inputs=/input_317)`\n"
     ]
    },
    {
     "name": "stdout",
     "output_type": "stream",
     "text": [
      "Strip number: 127\n"
     ]
    },
    {
     "name": "stderr",
     "output_type": "stream",
     "text": [
      "C:\\Users\\Nicholus\\AppData\\Local\\conda\\conda\\envs\\env_name27\\lib\\site-packages\\ipykernel_launcher.py:25: UserWarning: Update your `Model` call to the Keras 2 API: `Model(outputs=Reshape{4}..., inputs=/input_318)`\n"
     ]
    },
    {
     "name": "stdout",
     "output_type": "stream",
     "text": [
      "Strip number: 128\n"
     ]
    },
    {
     "name": "stderr",
     "output_type": "stream",
     "text": [
      "C:\\Users\\Nicholus\\AppData\\Local\\conda\\conda\\envs\\env_name27\\lib\\site-packages\\ipykernel_launcher.py:25: UserWarning: Update your `Model` call to the Keras 2 API: `Model(outputs=Reshape{4}..., inputs=/input_319)`\n"
     ]
    },
    {
     "name": "stdout",
     "output_type": "stream",
     "text": [
      "Strip number: 129\n"
     ]
    },
    {
     "name": "stderr",
     "output_type": "stream",
     "text": [
      "C:\\Users\\Nicholus\\AppData\\Local\\conda\\conda\\envs\\env_name27\\lib\\site-packages\\ipykernel_launcher.py:25: UserWarning: Update your `Model` call to the Keras 2 API: `Model(outputs=Reshape{4}..., inputs=/input_320)`\n"
     ]
    },
    {
     "name": "stdout",
     "output_type": "stream",
     "text": [
      "Strip number: 130\n"
     ]
    },
    {
     "name": "stderr",
     "output_type": "stream",
     "text": [
      "C:\\Users\\Nicholus\\AppData\\Local\\conda\\conda\\envs\\env_name27\\lib\\site-packages\\ipykernel_launcher.py:25: UserWarning: Update your `Model` call to the Keras 2 API: `Model(outputs=Reshape{4}..., inputs=/input_321)`\n"
     ]
    },
    {
     "name": "stdout",
     "output_type": "stream",
     "text": [
      "Strip number: 131\n"
     ]
    },
    {
     "name": "stderr",
     "output_type": "stream",
     "text": [
      "C:\\Users\\Nicholus\\AppData\\Local\\conda\\conda\\envs\\env_name27\\lib\\site-packages\\ipykernel_launcher.py:25: UserWarning: Update your `Model` call to the Keras 2 API: `Model(outputs=Reshape{4}..., inputs=/input_322)`\n"
     ]
    },
    {
     "name": "stdout",
     "output_type": "stream",
     "text": [
      "Strip number: 132\n"
     ]
    },
    {
     "name": "stderr",
     "output_type": "stream",
     "text": [
      "C:\\Users\\Nicholus\\AppData\\Local\\conda\\conda\\envs\\env_name27\\lib\\site-packages\\ipykernel_launcher.py:25: UserWarning: Update your `Model` call to the Keras 2 API: `Model(outputs=Reshape{4}..., inputs=/input_323)`\n"
     ]
    },
    {
     "name": "stdout",
     "output_type": "stream",
     "text": [
      "Strip number: 133\n"
     ]
    },
    {
     "name": "stderr",
     "output_type": "stream",
     "text": [
      "C:\\Users\\Nicholus\\AppData\\Local\\conda\\conda\\envs\\env_name27\\lib\\site-packages\\ipykernel_launcher.py:25: UserWarning: Update your `Model` call to the Keras 2 API: `Model(outputs=Reshape{4}..., inputs=/input_324)`\n"
     ]
    },
    {
     "name": "stdout",
     "output_type": "stream",
     "text": [
      "Strip number: 134\n"
     ]
    },
    {
     "name": "stderr",
     "output_type": "stream",
     "text": [
      "C:\\Users\\Nicholus\\AppData\\Local\\conda\\conda\\envs\\env_name27\\lib\\site-packages\\ipykernel_launcher.py:25: UserWarning: Update your `Model` call to the Keras 2 API: `Model(outputs=Reshape{4}..., inputs=/input_325)`\n"
     ]
    },
    {
     "name": "stdout",
     "output_type": "stream",
     "text": [
      "Strip number: 135\n"
     ]
    },
    {
     "name": "stderr",
     "output_type": "stream",
     "text": [
      "C:\\Users\\Nicholus\\AppData\\Local\\conda\\conda\\envs\\env_name27\\lib\\site-packages\\ipykernel_launcher.py:25: UserWarning: Update your `Model` call to the Keras 2 API: `Model(outputs=Reshape{4}..., inputs=/input_326)`\n"
     ]
    },
    {
     "name": "stdout",
     "output_type": "stream",
     "text": [
      "Strip number: 136\n"
     ]
    },
    {
     "name": "stderr",
     "output_type": "stream",
     "text": [
      "C:\\Users\\Nicholus\\AppData\\Local\\conda\\conda\\envs\\env_name27\\lib\\site-packages\\ipykernel_launcher.py:25: UserWarning: Update your `Model` call to the Keras 2 API: `Model(outputs=Reshape{4}..., inputs=/input_327)`\n"
     ]
    },
    {
     "name": "stdout",
     "output_type": "stream",
     "text": [
      "Strip number: 137\n"
     ]
    },
    {
     "name": "stderr",
     "output_type": "stream",
     "text": [
      "C:\\Users\\Nicholus\\AppData\\Local\\conda\\conda\\envs\\env_name27\\lib\\site-packages\\ipykernel_launcher.py:25: UserWarning: Update your `Model` call to the Keras 2 API: `Model(outputs=Reshape{4}..., inputs=/input_328)`\n"
     ]
    },
    {
     "name": "stdout",
     "output_type": "stream",
     "text": [
      "Strip number: 138\n"
     ]
    },
    {
     "name": "stderr",
     "output_type": "stream",
     "text": [
      "C:\\Users\\Nicholus\\AppData\\Local\\conda\\conda\\envs\\env_name27\\lib\\site-packages\\ipykernel_launcher.py:25: UserWarning: Update your `Model` call to the Keras 2 API: `Model(outputs=Reshape{4}..., inputs=/input_329)`\n"
     ]
    },
    {
     "name": "stdout",
     "output_type": "stream",
     "text": [
      "Strip number: 139\n"
     ]
    },
    {
     "name": "stderr",
     "output_type": "stream",
     "text": [
      "C:\\Users\\Nicholus\\AppData\\Local\\conda\\conda\\envs\\env_name27\\lib\\site-packages\\ipykernel_launcher.py:25: UserWarning: Update your `Model` call to the Keras 2 API: `Model(outputs=Reshape{4}..., inputs=/input_330)`\n"
     ]
    },
    {
     "name": "stdout",
     "output_type": "stream",
     "text": [
      "Strip number: 140\n"
     ]
    },
    {
     "name": "stderr",
     "output_type": "stream",
     "text": [
      "C:\\Users\\Nicholus\\AppData\\Local\\conda\\conda\\envs\\env_name27\\lib\\site-packages\\ipykernel_launcher.py:25: UserWarning: Update your `Model` call to the Keras 2 API: `Model(outputs=Reshape{4}..., inputs=/input_331)`\n"
     ]
    },
    {
     "name": "stdout",
     "output_type": "stream",
     "text": [
      "Strip number: 141\n"
     ]
    },
    {
     "name": "stderr",
     "output_type": "stream",
     "text": [
      "C:\\Users\\Nicholus\\AppData\\Local\\conda\\conda\\envs\\env_name27\\lib\\site-packages\\ipykernel_launcher.py:25: UserWarning: Update your `Model` call to the Keras 2 API: `Model(outputs=Reshape{4}..., inputs=/input_332)`\n"
     ]
    },
    {
     "name": "stdout",
     "output_type": "stream",
     "text": [
      "Strip number: 142\n"
     ]
    },
    {
     "name": "stderr",
     "output_type": "stream",
     "text": [
      "C:\\Users\\Nicholus\\AppData\\Local\\conda\\conda\\envs\\env_name27\\lib\\site-packages\\ipykernel_launcher.py:25: UserWarning: Update your `Model` call to the Keras 2 API: `Model(outputs=Reshape{4}..., inputs=/input_333)`\n"
     ]
    },
    {
     "name": "stdout",
     "output_type": "stream",
     "text": [
      "Strip number: 143\n"
     ]
    },
    {
     "name": "stderr",
     "output_type": "stream",
     "text": [
      "C:\\Users\\Nicholus\\AppData\\Local\\conda\\conda\\envs\\env_name27\\lib\\site-packages\\ipykernel_launcher.py:25: UserWarning: Update your `Model` call to the Keras 2 API: `Model(outputs=Reshape{4}..., inputs=/input_334)`\n"
     ]
    },
    {
     "name": "stdout",
     "output_type": "stream",
     "text": [
      "Strip number: 144\n"
     ]
    },
    {
     "name": "stderr",
     "output_type": "stream",
     "text": [
      "C:\\Users\\Nicholus\\AppData\\Local\\conda\\conda\\envs\\env_name27\\lib\\site-packages\\ipykernel_launcher.py:25: UserWarning: Update your `Model` call to the Keras 2 API: `Model(outputs=Reshape{4}..., inputs=/input_335)`\n"
     ]
    },
    {
     "name": "stdout",
     "output_type": "stream",
     "text": [
      "Strip number: 145\n"
     ]
    },
    {
     "name": "stderr",
     "output_type": "stream",
     "text": [
      "C:\\Users\\Nicholus\\AppData\\Local\\conda\\conda\\envs\\env_name27\\lib\\site-packages\\ipykernel_launcher.py:25: UserWarning: Update your `Model` call to the Keras 2 API: `Model(outputs=Reshape{4}..., inputs=/input_336)`\n"
     ]
    },
    {
     "name": "stdout",
     "output_type": "stream",
     "text": [
      "Strip number: 146\n"
     ]
    },
    {
     "name": "stderr",
     "output_type": "stream",
     "text": [
      "C:\\Users\\Nicholus\\AppData\\Local\\conda\\conda\\envs\\env_name27\\lib\\site-packages\\ipykernel_launcher.py:25: UserWarning: Update your `Model` call to the Keras 2 API: `Model(outputs=Reshape{4}..., inputs=/input_337)`\n"
     ]
    },
    {
     "name": "stdout",
     "output_type": "stream",
     "text": [
      "Strip number: 147\n"
     ]
    },
    {
     "name": "stderr",
     "output_type": "stream",
     "text": [
      "C:\\Users\\Nicholus\\AppData\\Local\\conda\\conda\\envs\\env_name27\\lib\\site-packages\\ipykernel_launcher.py:25: UserWarning: Update your `Model` call to the Keras 2 API: `Model(outputs=Reshape{4}..., inputs=/input_338)`\n"
     ]
    },
    {
     "name": "stdout",
     "output_type": "stream",
     "text": [
      "Strip number: 148\n"
     ]
    },
    {
     "name": "stderr",
     "output_type": "stream",
     "text": [
      "C:\\Users\\Nicholus\\AppData\\Local\\conda\\conda\\envs\\env_name27\\lib\\site-packages\\ipykernel_launcher.py:25: UserWarning: Update your `Model` call to the Keras 2 API: `Model(outputs=Reshape{4}..., inputs=/input_339)`\n"
     ]
    },
    {
     "name": "stdout",
     "output_type": "stream",
     "text": [
      "Strip number: 149\n"
     ]
    },
    {
     "name": "stderr",
     "output_type": "stream",
     "text": [
      "C:\\Users\\Nicholus\\AppData\\Local\\conda\\conda\\envs\\env_name27\\lib\\site-packages\\ipykernel_launcher.py:25: UserWarning: Update your `Model` call to the Keras 2 API: `Model(outputs=Reshape{4}..., inputs=/input_340)`\n"
     ]
    },
    {
     "name": "stdout",
     "output_type": "stream",
     "text": [
      "Strip number: 150\n"
     ]
    },
    {
     "name": "stderr",
     "output_type": "stream",
     "text": [
      "C:\\Users\\Nicholus\\AppData\\Local\\conda\\conda\\envs\\env_name27\\lib\\site-packages\\ipykernel_launcher.py:25: UserWarning: Update your `Model` call to the Keras 2 API: `Model(outputs=Reshape{4}..., inputs=/input_341)`\n"
     ]
    },
    {
     "name": "stdout",
     "output_type": "stream",
     "text": [
      "Strip number: 151\n"
     ]
    },
    {
     "name": "stderr",
     "output_type": "stream",
     "text": [
      "C:\\Users\\Nicholus\\AppData\\Local\\conda\\conda\\envs\\env_name27\\lib\\site-packages\\ipykernel_launcher.py:25: UserWarning: Update your `Model` call to the Keras 2 API: `Model(outputs=Reshape{4}..., inputs=/input_342)`\n"
     ]
    },
    {
     "name": "stdout",
     "output_type": "stream",
     "text": [
      "Strip number: 152\n"
     ]
    },
    {
     "name": "stderr",
     "output_type": "stream",
     "text": [
      "C:\\Users\\Nicholus\\AppData\\Local\\conda\\conda\\envs\\env_name27\\lib\\site-packages\\ipykernel_launcher.py:25: UserWarning: Update your `Model` call to the Keras 2 API: `Model(outputs=Reshape{4}..., inputs=/input_343)`\n"
     ]
    },
    {
     "name": "stdout",
     "output_type": "stream",
     "text": [
      "Strip number: 153\n"
     ]
    },
    {
     "name": "stderr",
     "output_type": "stream",
     "text": [
      "C:\\Users\\Nicholus\\AppData\\Local\\conda\\conda\\envs\\env_name27\\lib\\site-packages\\ipykernel_launcher.py:25: UserWarning: Update your `Model` call to the Keras 2 API: `Model(outputs=Reshape{4}..., inputs=/input_344)`\n"
     ]
    },
    {
     "name": "stdout",
     "output_type": "stream",
     "text": [
      "Strip number: 154\n"
     ]
    },
    {
     "name": "stderr",
     "output_type": "stream",
     "text": [
      "C:\\Users\\Nicholus\\AppData\\Local\\conda\\conda\\envs\\env_name27\\lib\\site-packages\\ipykernel_launcher.py:25: UserWarning: Update your `Model` call to the Keras 2 API: `Model(outputs=Reshape{4}..., inputs=/input_345)`\n"
     ]
    },
    {
     "name": "stdout",
     "output_type": "stream",
     "text": [
      "Strip number: 155\n"
     ]
    },
    {
     "name": "stderr",
     "output_type": "stream",
     "text": [
      "C:\\Users\\Nicholus\\AppData\\Local\\conda\\conda\\envs\\env_name27\\lib\\site-packages\\ipykernel_launcher.py:25: UserWarning: Update your `Model` call to the Keras 2 API: `Model(outputs=Reshape{4}..., inputs=/input_346)`\n"
     ]
    },
    {
     "name": "stdout",
     "output_type": "stream",
     "text": [
      "Strip number: 156\n"
     ]
    },
    {
     "name": "stderr",
     "output_type": "stream",
     "text": [
      "C:\\Users\\Nicholus\\AppData\\Local\\conda\\conda\\envs\\env_name27\\lib\\site-packages\\ipykernel_launcher.py:25: UserWarning: Update your `Model` call to the Keras 2 API: `Model(outputs=Reshape{4}..., inputs=/input_347)`\n"
     ]
    },
    {
     "name": "stdout",
     "output_type": "stream",
     "text": [
      "Strip number: 157\n"
     ]
    },
    {
     "name": "stderr",
     "output_type": "stream",
     "text": [
      "C:\\Users\\Nicholus\\AppData\\Local\\conda\\conda\\envs\\env_name27\\lib\\site-packages\\ipykernel_launcher.py:25: UserWarning: Update your `Model` call to the Keras 2 API: `Model(outputs=Reshape{4}..., inputs=/input_348)`\n"
     ]
    },
    {
     "name": "stdout",
     "output_type": "stream",
     "text": [
      "Strip number: 158\n"
     ]
    },
    {
     "name": "stderr",
     "output_type": "stream",
     "text": [
      "C:\\Users\\Nicholus\\AppData\\Local\\conda\\conda\\envs\\env_name27\\lib\\site-packages\\ipykernel_launcher.py:25: UserWarning: Update your `Model` call to the Keras 2 API: `Model(outputs=Reshape{4}..., inputs=/input_349)`\n"
     ]
    },
    {
     "name": "stdout",
     "output_type": "stream",
     "text": [
      "Strip number: 159\n"
     ]
    },
    {
     "name": "stderr",
     "output_type": "stream",
     "text": [
      "C:\\Users\\Nicholus\\AppData\\Local\\conda\\conda\\envs\\env_name27\\lib\\site-packages\\ipykernel_launcher.py:25: UserWarning: Update your `Model` call to the Keras 2 API: `Model(outputs=Reshape{4}..., inputs=/input_350)`\n"
     ]
    },
    {
     "name": "stdout",
     "output_type": "stream",
     "text": [
      "Strip number: 160\n"
     ]
    },
    {
     "name": "stderr",
     "output_type": "stream",
     "text": [
      "C:\\Users\\Nicholus\\AppData\\Local\\conda\\conda\\envs\\env_name27\\lib\\site-packages\\ipykernel_launcher.py:25: UserWarning: Update your `Model` call to the Keras 2 API: `Model(outputs=Reshape{4}..., inputs=/input_351)`\n"
     ]
    },
    {
     "name": "stdout",
     "output_type": "stream",
     "text": [
      "Strip number: 161\n"
     ]
    },
    {
     "name": "stderr",
     "output_type": "stream",
     "text": [
      "C:\\Users\\Nicholus\\AppData\\Local\\conda\\conda\\envs\\env_name27\\lib\\site-packages\\ipykernel_launcher.py:25: UserWarning: Update your `Model` call to the Keras 2 API: `Model(outputs=Reshape{4}..., inputs=/input_352)`\n"
     ]
    },
    {
     "name": "stdout",
     "output_type": "stream",
     "text": [
      "Strip number: 162\n"
     ]
    },
    {
     "name": "stderr",
     "output_type": "stream",
     "text": [
      "C:\\Users\\Nicholus\\AppData\\Local\\conda\\conda\\envs\\env_name27\\lib\\site-packages\\ipykernel_launcher.py:25: UserWarning: Update your `Model` call to the Keras 2 API: `Model(outputs=Reshape{4}..., inputs=/input_353)`\n"
     ]
    },
    {
     "name": "stdout",
     "output_type": "stream",
     "text": [
      "Strip number: 163\n"
     ]
    },
    {
     "name": "stderr",
     "output_type": "stream",
     "text": [
      "C:\\Users\\Nicholus\\AppData\\Local\\conda\\conda\\envs\\env_name27\\lib\\site-packages\\ipykernel_launcher.py:25: UserWarning: Update your `Model` call to the Keras 2 API: `Model(outputs=Reshape{4}..., inputs=/input_354)`\n"
     ]
    },
    {
     "name": "stdout",
     "output_type": "stream",
     "text": [
      "Strip number: 164\n"
     ]
    },
    {
     "name": "stderr",
     "output_type": "stream",
     "text": [
      "C:\\Users\\Nicholus\\AppData\\Local\\conda\\conda\\envs\\env_name27\\lib\\site-packages\\ipykernel_launcher.py:25: UserWarning: Update your `Model` call to the Keras 2 API: `Model(outputs=Reshape{4}..., inputs=/input_355)`\n"
     ]
    },
    {
     "name": "stdout",
     "output_type": "stream",
     "text": [
      "Strip number: 165\n"
     ]
    },
    {
     "name": "stderr",
     "output_type": "stream",
     "text": [
      "C:\\Users\\Nicholus\\AppData\\Local\\conda\\conda\\envs\\env_name27\\lib\\site-packages\\ipykernel_launcher.py:25: UserWarning: Update your `Model` call to the Keras 2 API: `Model(outputs=Reshape{4}..., inputs=/input_356)`\n"
     ]
    },
    {
     "name": "stdout",
     "output_type": "stream",
     "text": [
      "Strip number: 166\n"
     ]
    },
    {
     "name": "stderr",
     "output_type": "stream",
     "text": [
      "C:\\Users\\Nicholus\\AppData\\Local\\conda\\conda\\envs\\env_name27\\lib\\site-packages\\ipykernel_launcher.py:25: UserWarning: Update your `Model` call to the Keras 2 API: `Model(outputs=Reshape{4}..., inputs=/input_357)`\n"
     ]
    },
    {
     "name": "stdout",
     "output_type": "stream",
     "text": [
      "Strip number: 167\n"
     ]
    },
    {
     "name": "stderr",
     "output_type": "stream",
     "text": [
      "C:\\Users\\Nicholus\\AppData\\Local\\conda\\conda\\envs\\env_name27\\lib\\site-packages\\ipykernel_launcher.py:25: UserWarning: Update your `Model` call to the Keras 2 API: `Model(outputs=Reshape{4}..., inputs=/input_358)`\n"
     ]
    },
    {
     "name": "stdout",
     "output_type": "stream",
     "text": [
      "Strip number: 168\n"
     ]
    },
    {
     "name": "stderr",
     "output_type": "stream",
     "text": [
      "C:\\Users\\Nicholus\\AppData\\Local\\conda\\conda\\envs\\env_name27\\lib\\site-packages\\ipykernel_launcher.py:25: UserWarning: Update your `Model` call to the Keras 2 API: `Model(outputs=Reshape{4}..., inputs=/input_359)`\n"
     ]
    },
    {
     "name": "stdout",
     "output_type": "stream",
     "text": [
      "Strip number: 169\n"
     ]
    },
    {
     "name": "stderr",
     "output_type": "stream",
     "text": [
      "C:\\Users\\Nicholus\\AppData\\Local\\conda\\conda\\envs\\env_name27\\lib\\site-packages\\ipykernel_launcher.py:25: UserWarning: Update your `Model` call to the Keras 2 API: `Model(outputs=Reshape{4}..., inputs=/input_360)`\n"
     ]
    },
    {
     "name": "stdout",
     "output_type": "stream",
     "text": [
      "Strip number: 170\n"
     ]
    },
    {
     "name": "stderr",
     "output_type": "stream",
     "text": [
      "C:\\Users\\Nicholus\\AppData\\Local\\conda\\conda\\envs\\env_name27\\lib\\site-packages\\ipykernel_launcher.py:25: UserWarning: Update your `Model` call to the Keras 2 API: `Model(outputs=Reshape{4}..., inputs=/input_361)`\n"
     ]
    },
    {
     "name": "stdout",
     "output_type": "stream",
     "text": [
      "Strip number: 171\n"
     ]
    },
    {
     "name": "stderr",
     "output_type": "stream",
     "text": [
      "C:\\Users\\Nicholus\\AppData\\Local\\conda\\conda\\envs\\env_name27\\lib\\site-packages\\ipykernel_launcher.py:25: UserWarning: Update your `Model` call to the Keras 2 API: `Model(outputs=Reshape{4}..., inputs=/input_362)`\n"
     ]
    },
    {
     "name": "stdout",
     "output_type": "stream",
     "text": [
      "Strip number: 172\n"
     ]
    },
    {
     "name": "stderr",
     "output_type": "stream",
     "text": [
      "C:\\Users\\Nicholus\\AppData\\Local\\conda\\conda\\envs\\env_name27\\lib\\site-packages\\ipykernel_launcher.py:25: UserWarning: Update your `Model` call to the Keras 2 API: `Model(outputs=Reshape{4}..., inputs=/input_363)`\n"
     ]
    },
    {
     "name": "stdout",
     "output_type": "stream",
     "text": [
      "Strip number: 173\n"
     ]
    },
    {
     "name": "stderr",
     "output_type": "stream",
     "text": [
      "C:\\Users\\Nicholus\\AppData\\Local\\conda\\conda\\envs\\env_name27\\lib\\site-packages\\ipykernel_launcher.py:25: UserWarning: Update your `Model` call to the Keras 2 API: `Model(outputs=Reshape{4}..., inputs=/input_364)`\n"
     ]
    },
    {
     "name": "stdout",
     "output_type": "stream",
     "text": [
      "Strip number: 174\n"
     ]
    },
    {
     "name": "stderr",
     "output_type": "stream",
     "text": [
      "C:\\Users\\Nicholus\\AppData\\Local\\conda\\conda\\envs\\env_name27\\lib\\site-packages\\ipykernel_launcher.py:25: UserWarning: Update your `Model` call to the Keras 2 API: `Model(outputs=Reshape{4}..., inputs=/input_365)`\n"
     ]
    },
    {
     "name": "stdout",
     "output_type": "stream",
     "text": [
      "Strip number: 175\n"
     ]
    },
    {
     "name": "stderr",
     "output_type": "stream",
     "text": [
      "C:\\Users\\Nicholus\\AppData\\Local\\conda\\conda\\envs\\env_name27\\lib\\site-packages\\ipykernel_launcher.py:25: UserWarning: Update your `Model` call to the Keras 2 API: `Model(outputs=Reshape{4}..., inputs=/input_366)`\n"
     ]
    },
    {
     "name": "stdout",
     "output_type": "stream",
     "text": [
      "Strip number: 176\n"
     ]
    },
    {
     "name": "stderr",
     "output_type": "stream",
     "text": [
      "C:\\Users\\Nicholus\\AppData\\Local\\conda\\conda\\envs\\env_name27\\lib\\site-packages\\ipykernel_launcher.py:25: UserWarning: Update your `Model` call to the Keras 2 API: `Model(outputs=Reshape{4}..., inputs=/input_367)`\n"
     ]
    },
    {
     "name": "stdout",
     "output_type": "stream",
     "text": [
      "Strip number: 177\n"
     ]
    },
    {
     "name": "stderr",
     "output_type": "stream",
     "text": [
      "C:\\Users\\Nicholus\\AppData\\Local\\conda\\conda\\envs\\env_name27\\lib\\site-packages\\ipykernel_launcher.py:25: UserWarning: Update your `Model` call to the Keras 2 API: `Model(outputs=Reshape{4}..., inputs=/input_368)`\n"
     ]
    },
    {
     "name": "stdout",
     "output_type": "stream",
     "text": [
      "Strip number: 178\n"
     ]
    },
    {
     "name": "stderr",
     "output_type": "stream",
     "text": [
      "C:\\Users\\Nicholus\\AppData\\Local\\conda\\conda\\envs\\env_name27\\lib\\site-packages\\ipykernel_launcher.py:25: UserWarning: Update your `Model` call to the Keras 2 API: `Model(outputs=Reshape{4}..., inputs=/input_369)`\n"
     ]
    },
    {
     "name": "stdout",
     "output_type": "stream",
     "text": [
      "Strip number: 179\n"
     ]
    },
    {
     "name": "stderr",
     "output_type": "stream",
     "text": [
      "C:\\Users\\Nicholus\\AppData\\Local\\conda\\conda\\envs\\env_name27\\lib\\site-packages\\ipykernel_launcher.py:25: UserWarning: Update your `Model` call to the Keras 2 API: `Model(outputs=Reshape{4}..., inputs=/input_370)`\n"
     ]
    },
    {
     "name": "stdout",
     "output_type": "stream",
     "text": [
      "Strip number: 180\n"
     ]
    },
    {
     "name": "stderr",
     "output_type": "stream",
     "text": [
      "C:\\Users\\Nicholus\\AppData\\Local\\conda\\conda\\envs\\env_name27\\lib\\site-packages\\ipykernel_launcher.py:25: UserWarning: Update your `Model` call to the Keras 2 API: `Model(outputs=Reshape{4}..., inputs=/input_371)`\n"
     ]
    },
    {
     "name": "stdout",
     "output_type": "stream",
     "text": [
      "Strip number: 181\n"
     ]
    },
    {
     "name": "stderr",
     "output_type": "stream",
     "text": [
      "C:\\Users\\Nicholus\\AppData\\Local\\conda\\conda\\envs\\env_name27\\lib\\site-packages\\ipykernel_launcher.py:25: UserWarning: Update your `Model` call to the Keras 2 API: `Model(outputs=Reshape{4}..., inputs=/input_372)`\n"
     ]
    },
    {
     "name": "stdout",
     "output_type": "stream",
     "text": [
      "Strip number: 182\n"
     ]
    },
    {
     "name": "stderr",
     "output_type": "stream",
     "text": [
      "C:\\Users\\Nicholus\\AppData\\Local\\conda\\conda\\envs\\env_name27\\lib\\site-packages\\ipykernel_launcher.py:25: UserWarning: Update your `Model` call to the Keras 2 API: `Model(outputs=Reshape{4}..., inputs=/input_373)`\n"
     ]
    },
    {
     "name": "stdout",
     "output_type": "stream",
     "text": [
      "Strip number: 183\n"
     ]
    },
    {
     "name": "stderr",
     "output_type": "stream",
     "text": [
      "C:\\Users\\Nicholus\\AppData\\Local\\conda\\conda\\envs\\env_name27\\lib\\site-packages\\ipykernel_launcher.py:25: UserWarning: Update your `Model` call to the Keras 2 API: `Model(outputs=Reshape{4}..., inputs=/input_374)`\n"
     ]
    },
    {
     "name": "stdout",
     "output_type": "stream",
     "text": [
      "Strip number: 184\n"
     ]
    },
    {
     "name": "stderr",
     "output_type": "stream",
     "text": [
      "C:\\Users\\Nicholus\\AppData\\Local\\conda\\conda\\envs\\env_name27\\lib\\site-packages\\ipykernel_launcher.py:25: UserWarning: Update your `Model` call to the Keras 2 API: `Model(outputs=Reshape{4}..., inputs=/input_375)`\n"
     ]
    },
    {
     "name": "stdout",
     "output_type": "stream",
     "text": [
      "Strip number: 185\n"
     ]
    },
    {
     "name": "stderr",
     "output_type": "stream",
     "text": [
      "C:\\Users\\Nicholus\\AppData\\Local\\conda\\conda\\envs\\env_name27\\lib\\site-packages\\ipykernel_launcher.py:25: UserWarning: Update your `Model` call to the Keras 2 API: `Model(outputs=Reshape{4}..., inputs=/input_376)`\n"
     ]
    },
    {
     "name": "stdout",
     "output_type": "stream",
     "text": [
      "Strip number: 186\n"
     ]
    },
    {
     "name": "stderr",
     "output_type": "stream",
     "text": [
      "C:\\Users\\Nicholus\\AppData\\Local\\conda\\conda\\envs\\env_name27\\lib\\site-packages\\ipykernel_launcher.py:25: UserWarning: Update your `Model` call to the Keras 2 API: `Model(outputs=Reshape{4}..., inputs=/input_377)`\n"
     ]
    },
    {
     "name": "stdout",
     "output_type": "stream",
     "text": [
      "Strip number: 187\n",
      "Last hit!\n"
     ]
    },
    {
     "name": "stderr",
     "output_type": "stream",
     "text": [
      "C:\\Users\\Nicholus\\AppData\\Local\\conda\\conda\\envs\\env_name27\\lib\\site-packages\\ipykernel_launcher.py:25: UserWarning: Update your `Model` call to the Keras 2 API: `Model(outputs=Reshape{4}..., inputs=/input_378)`\n"
     ]
    },
    {
     "name": "stdout",
     "output_type": "stream",
     "text": [
      "Strip number: 188\n",
      "Last hit!\n"
     ]
    },
    {
     "name": "stderr",
     "output_type": "stream",
     "text": [
      "C:\\Users\\Nicholus\\AppData\\Local\\conda\\conda\\envs\\env_name27\\lib\\site-packages\\ipykernel_launcher.py:25: UserWarning: Update your `Model` call to the Keras 2 API: `Model(outputs=Reshape{4}..., inputs=/input_379)`\n"
     ]
    },
    {
     "name": "stdout",
     "output_type": "stream",
     "text": [
      "[[ 288.    1.    3.   15.    0.]\n",
      " [   0.  166.    1.    6.    1.]\n",
      " [   6.    8.   85.   18.    0.]\n",
      " [  14.    3.    1.  279.    0.]\n",
      " [   4.    1.    0.   19.   75.]]\n",
      "Full OA: 0.898390\n",
      "(74973790L,)\n",
      "Finished testing after 25.10 mins\n"
     ]
    }
   ],
   "source": [
    "predsdir =tutorialdir + \"predictions/\"\n",
    "cut = 50\n",
    "overlap = 10\n",
    "labels = Y_test\n",
    "\n",
    "#image = area5_swapped[:,:,:2000,:2000]\n",
    "#image = image [:,:,:2000,:2000]\n",
    "t0 = time.time()\n",
    "evaluate_predictions(image,\n",
    "                     w8fname, predsdir,\n",
    "                     cut, overlap,\n",
    "                     labels,mapidx_a_tile2,test_sample_points_arr)\n",
    "\n",
    "t1 = time.time()\n",
    "print(\"Finished testing after %.2f mins\" % ((t1-t0)/60.0))"
   ]
  },
  {
   "cell_type": "code",
   "execution_count": null,
   "metadata": {
    "collapsed": true
   },
   "outputs": [],
   "source": [
    "##TESTING the classifier"
   ]
  },
  {
   "cell_type": "code",
   "execution_count": null,
   "metadata": {
    "collapsed": true
   },
   "outputs": [],
   "source": [
    "#manual testing of the classification accuracy \n",
    "\n",
    "Y_test = rgtsarray\n",
    "Y_test = Y_test[:1000,:1000]\n",
    "#plt.imshow(lab_arr)\n",
    "labelidx = np.where(Y_test!=0)\n",
    "labels = Y_test[labelidx]\n",
    "labels = labels.astype(\"uint8\")\n",
    "labels = labels - 1\n",
    "mapidx = cartesian([range(cmap.shape[0]), range(cmap.shape[1])])\n",
    "cmap_sparse = cmap[labelidx]\n",
    "CM = get_confusion_matrix(cmap_sparse, labels)\n",
    "OA = np.sum(np.diag(CM))/cmap_sparse.size\n",
    "\n",
    "print(CM)\n",
    "print(\"Full OA: %f\" % OA)\n"
   ]
  },
  {
   "cell_type": "code",
   "execution_count": 30,
   "metadata": {
    "collapsed": true
   },
   "outputs": [],
   "source": [
    "test_sample_arr = \"H:/BUKAVU-2018/PRELIM_CNN/GTS_IMAGES/tile4_img.tiff\"\n",
    "\"loading the data for tile 2\"\n",
    "ts1,ts2 = img_to_array(test_sample_arr,test_sample_arr)"
   ]
  },
  {
   "cell_type": "code",
   "execution_count": 32,
   "metadata": {},
   "outputs": [
    {
     "data": {
      "text/plain": [
       "(9407L, 7970L, 1L)"
      ]
     },
     "execution_count": 32,
     "metadata": {},
     "output_type": "execute_result"
    }
   ],
   "source": [
    "ts1.shape"
   ]
  },
  {
   "cell_type": "code",
   "execution_count": 27,
   "metadata": {
    "collapsed": true
   },
   "outputs": [],
   "source": [
    "#Reclassifying the array and giving it coordinates\n",
    "def reclass_gts(gtsarray):\n",
    "    \"\"\"Reclassify ground truth dataset array to single class numbers.\n",
    "\n",
    "    Keyword arguments:\n",
    "    gtsarray -- the ground truth dataset array\n",
    "    \"\"\"\n",
    "    reclassarray = np.zeros(shape=(gtsarray.shape[0], gtsarray.shape[1]),\n",
    "                            dtype=np.uint8)\n",
    "    cnum = 1\n",
    "    for color in _ccolors:\n",
    "        mask = np.logical_and(np.logical_and(gtsarray[:, :, 0] == color[0],\n",
    "                              gtsarray[:, :, 1] == color[1]),\n",
    "                              gtsarray[:, :, 2] == color[2])\n",
    "        reclassarray[mask] = cnum\n",
    "        cnum += 1\n",
    "\n",
    "    # print(\"Maximum label:\")\n",
    "    # print(reclassarray.max())\n",
    "    # print(\"Minimum label:\")\n",
    "    # print(reclassarray.min())\n",
    "    return reclassarray\n",
    "\n",
    "#saving the image in a gc\n",
    "#pred_map= predsdir + \"fcn_vanilla_weakly1_tile4.tif\"\n",
    "pred_map= predsdir + \"fcn_vanilla_weakly1_obia_tile4.tif\"\n",
    "pred_map1,pred_map_del = img_to_array(pred_map,pred_map)\n",
    "\n",
    "\"reclassifying the classified map\"\n",
    "\n",
    "P_rec= reclass_gts(pred_map1)\n",
    "P_rec1 = np.expand_dims(P_rec,axis=2)\n",
    "\n",
    "pred_map_GCs = predsdir + \"fcn_vanilla_weakly1_obia_tile4_3bands.tif\"\n",
    "\n",
    "nrows,ncols,nbands = pred_map1.shape[0],pred_map1.shape[1],pred_map1.shape[2]\n",
    "driver = gdal.GetDriverByName('GTiff')\n",
    "nw_ds = driver.Create(pred_map_GCs, ncols, nrows, nbands, gdal.GDT_UInt32 )\n",
    "nw_ds.SetGeoTransform(geo_transform)\n",
    "nw_ds.SetProjection(proj)\n",
    "\n",
    "for i in range(nbands):\n",
    "\tnw_ds.GetRasterBand(i+1).WriteArray(pred_map1[:, :, i])\n",
    "\n",
    "nw_ds = None\n"
   ]
  },
  {
   "cell_type": "code",
   "execution_count": 28,
   "metadata": {
    "collapsed": true
   },
   "outputs": [],
   "source": [
    "#save a one band image\n",
    "#p_rec is the reclassified array and has two dimensions\n",
    "pred_map_GCs2 = predsdir + \"fcn_vanilla_weakly1_obia_tile4_1bands.tif\"\n",
    "nrows,ncols,nbands = P_rec1.shape[0],P_rec1.shape[1],P_rec1.shape[2]\n",
    "driver = gdal.GetDriverByName('GTiff')\n",
    "nw_ds = driver.Create(pred_map_GCs2, ncols, nrows, nbands, gdal.GDT_UInt32 )\n",
    "nw_ds.SetGeoTransform(geo_transform)\n",
    "nw_ds.SetProjection(proj)\n",
    "\n",
    "nw_ds.GetRasterBand(1).WriteArray(P_rec1[:, :,0])\n",
    "\n",
    "#for i in range(nbands):\n",
    "#\tnw_ds.GetRasterBand(i+1).WriteArray(P_rec[:, :, i])\n",
    "\n",
    "nw_ds = None"
   ]
  }
 ],
 "metadata": {
  "kernelspec": {
   "display_name": "Python 2",
   "language": "python",
   "name": "python2"
  },
  "language_info": {
   "codemirror_mode": {
    "name": "ipython",
    "version": 2
   },
   "file_extension": ".py",
   "mimetype": "text/x-python",
   "name": "python",
   "nbconvert_exporter": "python",
   "pygments_lexer": "ipython2",
   "version": "2.7.14"
  }
 },
 "nbformat": 4,
 "nbformat_minor": 2
}
