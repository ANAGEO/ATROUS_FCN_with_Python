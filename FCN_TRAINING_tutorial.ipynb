{
 "cells": [
  {
   "cell_type": "code",
   "execution_count": 1,
   "metadata": {},
   "outputs": [
    {
     "data": {
      "text/plain": [
       "'ATROUS FCN. NO_DOWNSAMPLING'"
      ]
     },
     "execution_count": 1,
     "metadata": {},
     "output_type": "execute_result"
    }
   ],
   "source": [
    "\"ATROUS FCN. NO_DOWNSAMPLING\""
   ]
  },
  {
   "cell_type": "code",
   "execution_count": 2,
   "metadata": {},
   "outputs": [
    {
     "data": {
      "text/plain": [
       "'\"adapted/improved from the original code developed in Bergado, J. R. A., Persello, C., & Gevaert, C. (2016). \\n    A deep learning approach to the classification of sub-decimeter resolution aerial images.\\n    In IEEE International Geoscience and Remote Sensing Symposium (pp. 1516\\xe2\\x80\\x931519). Beijing.'"
      ]
     },
     "execution_count": 2,
     "metadata": {},
     "output_type": "execute_result"
    }
   ],
   "source": [
    "# importing the necessary libraries and dependencies\n",
    "\"\"\"\"adapted/improved from the original code developed in Bergado, J. R. A., Persello, C., & Gevaert, C. (2016). \n",
    "    A deep learning approach to the classification of sub-decimeter resolution aerial images.\n",
    "    In IEEE International Geoscience and Remote Sensing Symposium (pp. 1516–1519). Beijing.\"\"\""
   ]
  },
  {
   "cell_type": "code",
   "execution_count": 3,
   "metadata": {},
   "outputs": [
    {
     "name": "stderr",
     "output_type": "stream",
     "text": [
      "Using Theano backend.\n",
      "Using cuDNN version 7005 on context None\n",
      "Mapped name None to device cuda: GeForce GTX 1080 (0000:05:00.0)\n"
     ]
    }
   ],
   "source": [
    "from numpy.random import seed,randint\n",
    "import time\n",
    "import keras\n",
    "import numpy as np\n",
    "import h5py\n",
    "from keras.models import Sequential, Model\n",
    "from keras.layers import Input, Lambda,LeakyReLU\n",
    "from keras.layers import Dense, Activation, Dropout, BatchNormalization, Add\n",
    "from keras.layers import Conv2D, MaxPooling2D, ZeroPadding2D, Dropout,Concatenate\n",
    "from keras.callbacks import LearningRateScheduler\n",
    "#from keras.preprocessing import image, datagen\n",
    "from keras.optimizers import SGD,Adam\n",
    "import theano.tensor as T\n",
    "from keras import backend as K\n",
    "from theano import ifelse\n",
    "import matplotlib.pyplot as plt\n",
    "seed(352)\n",
    "K.set_image_dim_ordering(\"th\")\n",
    "t0 = time.time()\n",
    "\n",
    "nb_epoch = 100\n",
    "batch_size = 128\n",
    "nc = 5\n",
    "\n",
    "_epsilon = 1e-6"
   ]
  },
  {
   "cell_type": "code",
   "execution_count": null,
   "metadata": {
    "collapsed": true
   },
   "outputs": [],
   "source": [
    "# defining the functions"
   ]
  },
  {
   "cell_type": "code",
   "execution_count": 4,
   "metadata": {},
   "outputs": [
    {
     "data": {
      "text/plain": [
       "\"\\n#vanilla fcn, using normal convolutional neural networks\\ndef block_1(inpt):\\n\\tx = inpt\\n\\tx_0 = ZeroPadding2D((2, 2))(x)\\n\\tx_0 = Conv2D(64, (5, 5), padding = 'valid')(x_0)\\n\\tx_0 = add_common_layers(x_0)\\n\\tx_0 = ZeroPadding2D((1, 1))(x_0)\\n\\tx_0 = MaxPooling2D(pool_size=(3, 3),strides=1)(x_0)\\n\\treturn x_0\\n\\t\\ndef block_2(inp):\\n\\tx_1 = inp\\n\\tx_2 = ZeroPadding2D((1, 1))(x_1)\\n\\tx_2 = Conv2D(64, (3, 3), padding = 'valid')(x_2)\\n\\tx_2 = add_common_layers(x_2)\\n\\tx_2 = ZeroPadding2D((1, 1))(x_2)\\n\\tx_2 = MaxPooling2D(pool_size=(3, 3),strides=1)(x_2)\\n\\treturn x_2\\n\""
      ]
     },
     "execution_count": 4,
     "metadata": {},
     "output_type": "execute_result"
    }
   ],
   "source": [
    "#customize the softmax activation function\n",
    "def softmax_4d(softmax_input):\n",
    "    \"\"\"Elementwise softmax for 4d tensors.\"\"\"\n",
    "    si = softmax_input.reshape((softmax_input.shape[0],\n",
    "                                softmax_input.shape[1], -1))\n",
    "    shp = (si.shape[0], 1, si.shape[2])\n",
    "    exp = K.exp(si - si.max(axis=1).reshape(shp))\n",
    "    out = (exp / exp.sum(axis=1).reshape(shp)).reshape(softmax_input.shape)\n",
    "    return out\n",
    "\n",
    "#customize the loss function\n",
    "   \n",
    "def categorical_CE2D(y_true, y_pred):\n",
    "    y_pred = K.clip(y_pred, _epsilon, 1.0 - _epsilon)\n",
    "    cce = K.mean(-K.sum(y_true*K.log(y_pred), axis=[1]))\n",
    "    return cce\n",
    "\n",
    "def categorical_accuracy2D(y_true, y_pred):\n",
    "    return K.mean(K.equal(K.argmax(y_true, axis=1),\n",
    "                  K.argmax(y_pred, axis=1)))\n",
    "\t\t\t\t  \n",
    "def to_categorical_4d(y, nc):\n",
    "    \"\"\"Convert a reclassed ground truth array to one-hot encoding\n",
    "    \n",
    "    Keyword arguments:\n",
    "    y -- ground truth image\n",
    "    nc -- number of classes\n",
    "    \"\"\"\n",
    "    Y = np.zeros((y.shape[0],\n",
    "                  nc,\n",
    "                  y.shape[2],\n",
    "                  y.shape[3]),\n",
    "                  dtype=np.int32)\n",
    "    y=y.astype(np.int32)\n",
    "    \n",
    "    for h in range(y.shape[0]):\n",
    "        for i in range(y.shape[2]):\n",
    "            for j in range(y.shape[3]):\n",
    "                \n",
    "                if y[h, 0, i, j] != 0:\n",
    "                    Y[h, y[h, 0, i, j]-1, i, j] = 1\n",
    "                else:\n",
    "                    continue\n",
    "    \n",
    "    return Y\n",
    "\n",
    "\"\"\"\n",
    "#BN followed by RELU\n",
    "def add_common_layers(y):\n",
    "    y = BatchNormalization(axis=1)(y) #should i define the axis for BN? what is the effect of not specifying the BN\n",
    "    #y = Activation ('relu')(y)\n",
    "    y=LeakyReLU(alpha=0.1)(y)\n",
    "    y=Dropout(0.5)(y)\n",
    "    return y\n",
    "\"\"\"\n",
    "def add_common_layers(y):\n",
    "    y = Activation ('relu')(y)\n",
    "    #y=LeakyReLU(alpha=0.1)(y)\n",
    "    y = BatchNormalization(axis=1)(y) #should i define the axis for BN? what is the effect of not specifying the BN\n",
    "    #y = Activation ('relu')(y)\n",
    "    #y=Dropout(0.2)(y)\n",
    "    return y\n",
    "\n",
    "def block_1(inpt):\n",
    "\tx = inpt\n",
    "\tx_0 = ZeroPadding2D((4, 4))(x)\n",
    "\tx_0 = Conv2D(64, (5, 5), padding = 'valid', dilation_rate = (2,2))(x_0)\n",
    "\tx_0 = add_common_layers(x_0)\n",
    "\tx_0 = ZeroPadding2D((1, 1))(x_0)\n",
    "\tx_0 = MaxPooling2D(pool_size=(3, 3),strides=1)(x_0)\n",
    "\treturn x_0\n",
    "\n",
    "def block_2(inp):\n",
    "\tx_1 = inp\n",
    "\tx_2 = ZeroPadding2D((2, 2))(x_1)\n",
    "\tx_2 = Conv2D(64, (3, 3), padding = 'valid', dilation_rate = (2,2))(x_2)\n",
    "\tx_2 = add_common_layers(x_2)\n",
    "\tx_2 = ZeroPadding2D((1, 1))(x_2)\n",
    "\tx_2 = MaxPooling2D(pool_size=(3, 3),strides=1)(x_2)\n",
    "\treturn x_2\n",
    "\n",
    "\"\"\"\n",
    "#vanilla fcn, using normal convolutional neural networks\n",
    "def block_1(inpt):\n",
    "\tx = inpt\n",
    "\tx_0 = ZeroPadding2D((2, 2))(x)\n",
    "\tx_0 = Conv2D(64, (5, 5), padding = 'valid')(x_0)\n",
    "\tx_0 = add_common_layers(x_0)\n",
    "\tx_0 = ZeroPadding2D((1, 1))(x_0)\n",
    "\tx_0 = MaxPooling2D(pool_size=(3, 3),strides=1)(x_0)\n",
    "\treturn x_0\n",
    "\t\n",
    "def block_2(inp):\n",
    "\tx_1 = inp\n",
    "\tx_2 = ZeroPadding2D((1, 1))(x_1)\n",
    "\tx_2 = Conv2D(64, (3, 3), padding = 'valid')(x_2)\n",
    "\tx_2 = add_common_layers(x_2)\n",
    "\tx_2 = ZeroPadding2D((1, 1))(x_2)\n",
    "\tx_2 = MaxPooling2D(pool_size=(3, 3),strides=1)(x_2)\n",
    "\treturn x_2\n",
    "\"\"\"\n"
   ]
  },
  {
   "cell_type": "code",
   "execution_count": 5,
   "metadata": {
    "collapsed": true
   },
   "outputs": [],
   "source": [
    "#function for the learning rate scheduling\n",
    "def step_decay_schedule(initial_lr=1e-3, decay_factor=0.75, step_size=10):\n",
    "    '''\n",
    "    Wrapper function to create a LearningRateScheduler with step decay schedule.\n",
    "    '''\n",
    "    def schedule(epoch):\n",
    "        #return initial_lr * (decay_factor ** np.floor(epoch/step_size))\n",
    "        \n",
    "        if epoch<50:\n",
    "            return 0.1\n",
    "        else:\n",
    "            return 0.001\n",
    "        \n",
    "    \n",
    "    return LearningRateScheduler(schedule)\n",
    "\n",
    "  "
   ]
  },
  {
   "cell_type": "code",
   "execution_count": 6,
   "metadata": {
    "collapsed": true
   },
   "outputs": [],
   "source": [
    "\"adding path to the new dataset\"\n",
    "datadir = \"H:/BUKAVU-2018/PRELIM_CNN/\"\n",
    "#smpldir = datadir + \"samples/samples_gray_v3.hdf5\"\n",
    "#smpldir= datadir + \"samples/samples_weakly_geobia2.hdf5\"\n",
    "tutorialdir = \"H:/tutorial_fcn/\"\n",
    "smpldir= tutorialdir  + \"samples/samples_wfcn_v1.hdf5\""
   ]
  },
  {
   "cell_type": "code",
   "execution_count": 7,
   "metadata": {
    "collapsed": true
   },
   "outputs": [],
   "source": [
    "\"reading the data\"\n",
    "with h5py.File(smpldir, \"r\") as f:\n",
    "\tx_train = np.asarray(f[\"X_train\"])\n",
    "\tx_val = np.asarray(f[\"X_val\"])\n",
    "\t#x_test = np.asarray(f[\"X_test\"])\n",
    "\ty_train = np.asarray(f[\"y_train\"])\n",
    "\ty_val = np.asarray(f[\"y_val\"])\n",
    "\t#y_test = np.asarray(f[\"y_test\"])"
   ]
  },
  {
   "cell_type": "code",
   "execution_count": 8,
   "metadata": {
    "collapsed": true
   },
   "outputs": [],
   "source": [
    "# IMPORTANT: labels should be from 1 to # of classes (zero-labels are considered unlabeled)\n",
    "\n",
    "y_train = y_train + 1\n",
    "y_val = y_val + 1\n",
    "\n",
    "y_train = to_categorical_4d(y_train, nc)\n",
    "y_val = to_categorical_4d(y_val, nc)"
   ]
  },
  {
   "cell_type": "code",
   "execution_count": 9,
   "metadata": {},
   "outputs": [
    {
     "name": "stderr",
     "output_type": "stream",
     "text": [
      "C:\\Users\\Nicholus\\AppData\\Local\\conda\\conda\\envs\\env_name27\\lib\\site-packages\\ipykernel_launcher.py:26: UserWarning: Update your `Model` call to the Keras 2 API: `Model(outputs=Reshape{4}..., inputs=/input_1)`\n"
     ]
    }
   ],
   "source": [
    "\"definition of the fcn network\"\n",
    "#apparently the merge operations with the exception of the concatenate need tensors of same dimensions\n",
    "psize = 33\n",
    "inp = Input(shape=(3, psize, psize))\n",
    "\n",
    "x0=block_1(inp)\n",
    "x1=block_1(x0)\n",
    "x2=block_2(x1)\n",
    "x3=block_2(x2)\n",
    "x4=block_2(x3)\n",
    "x5=block_2(x4)\n",
    "x6=block_2(x5)\n",
    "#x6=block_1(x3)\n",
    "\"concatenation layer\"\n",
    "#xc6= Concatenate(axis = 1)([x0,x1,x2,x3,x4])\n",
    "xc6= Concatenate(axis = 1)([x0,x1,x2,x3,x4,x5,x6])\n",
    "#x6_m = Add()([x1,x6])\n",
    "\n",
    "x7=Conv2D(5, (1, 1))(xc6)\n",
    "\n",
    "#adding the softmax activation\n",
    "out_p = Activation(softmax_4d)(x7)\n",
    "\n",
    "#create the model \n",
    "\n",
    "model = Model(input=inp,output=out_p)\n",
    "\n",
    "\n",
    "#sgd = SGD (lr = 0.1, decay = 0.001, momentum = 0.5, nesterov = True)\n",
    "#○adm= Adam(lr=0.01,beta_1=0.9,beta_2=0.999,epsilon = None, decay = 0.0)\n",
    "sgd = SGD (momentum = 0.9, nesterov = True)\n",
    "model.compile(optimizer=sgd, loss=categorical_CE2D,\n",
    "                    metrics=[categorical_accuracy2D])"
   ]
  },
  {
   "cell_type": "code",
   "execution_count": 10,
   "metadata": {},
   "outputs": [
    {
     "name": "stdout",
     "output_type": "stream",
     "text": [
      "Finished training after 15.01 mins\n"
     ]
    }
   ],
   "source": [
    "\"train the model and save the weights\"\n",
    "t0 = time.time()\n",
    "lr_sched = step_decay_schedule(initial_lr=1e-1, decay_factor=0.75, step_size=2)\n",
    "\n",
    "history = model.fit(x_train,y_train,\n",
    "                          validation_data=(x_val, y_val),shuffle = True,\n",
    "                          epochs=nb_epoch, batch_size=batch_size,callbacks=[lr_sched], verbose=0)\n",
    "\n",
    "t1 = time.time()\n",
    "print(\"Finished training after %.2f mins\" % ((t1-t0)/60.0))\n",
    "w8fname = tutorialdir+\\\n",
    "          \"weights/fcn_weakly_geobia3.hdf5\"\n",
    "model.save_weights(w8fname, overwrite=True)"
   ]
  },
  {
   "cell_type": "code",
   "execution_count": 11,
   "metadata": {},
   "outputs": [
    {
     "data": {
      "image/png": "[encoded data removed]",
      "text/plain": [
       "<matplotlib.figure.Figure at 0x731a3518>"
      ]
     },
     "metadata": {},
     "output_type": "display_data"
    },
    {
     "data": {
      "image/png": "[encoded data removed]",
      "text/plain": [
       "<matplotlib.figure.Figure at 0x7321c7b8>"
      ]
     },
     "metadata": {},
     "output_type": "display_data"
    }
   ],
   "source": [
    "\"visualize the learned weights\"\n",
    "\n",
    "#summarize history for accuracy\n",
    "\n",
    "plt.plot(history.history['categorical_accuracy2D'])\n",
    "plt.plot(history.history['val_categorical_accuracy2D'])\n",
    "plt.title('model accuracy')\n",
    "plt.ylabel ('accuracy')\n",
    "plt.xlabel('epoch')\n",
    "plt.legend(['train','test'], loc = 'upper left')\n",
    "plt.show()\n",
    "\n",
    "#summarize history for loss\n",
    "plt.plot(history.history['loss'])\n",
    "plt.plot(history.history['val_loss'])\n",
    "plt.title('model loss')\n",
    "plt.ylabel('loss')\n",
    "plt.xlabel('epoch')\n",
    "plt.legend(['train','test'], loc='upper left')\n",
    "plt.show()\n"
   ]
  },
  {
   "cell_type": "code",
   "execution_count": null,
   "metadata": {
    "collapsed": true
   },
   "outputs": [],
   "source": []
  }
 ],
 "metadata": {
  "kernelspec": {
   "display_name": "Python 2",
   "language": "python",
   "name": "python2"
  },
  "language_info": {
   "codemirror_mode": {
    "name": "ipython",
    "version": 2
   },
   "file_extension": ".py",
   "mimetype": "text/x-python",
   "name": "python",
   "nbconvert_exporter": "python",
   "pygments_lexer": "ipython2",
   "version": "2.7.14"
  }
 },
 "nbformat": 4,
 "nbformat_minor": 2
}
